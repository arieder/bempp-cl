{
 "cells": [
  {
   "cell_type": "markdown",
   "metadata": {},
   "source": [
    "# Scattering from a sphere using a combined direct formulation"
   ]
  },
  {
   "cell_type": "markdown",
   "metadata": {},
   "source": [
    "### Background"
   ]
  },
  {
   "cell_type": "markdown",
   "metadata": {},
   "source": [
    "In this tutorial, we will solve the problem of scattering from the unit sphere $\\Omega$ using a combined integral formulation and an incident wave defined by\n",
    "\n",
    "$$\n",
    "u^{\\text{inc}}(\\mathbf x) = \\mathrm{e}^{\\mathrm{i} k x}.\n",
    "$$\n",
    "\n",
    "where $\\mathbf x = (x, y, z)$.\n",
    "\n",
    "The PDE is given by the Helmholtz equation:\n",
    "\n",
    "$$\n",
    "\\Delta u + k^2 u = 0, \\quad \\text{ in } \\mathbb{R}^3 \\backslash \\Omega,\n",
    "$$\n",
    "\n",
    "where $u=u^\\text{s}+u^\\text{inc}$ is the total acoustic field and $u^\\text{s}$ satisfies the Sommerfeld radiation condition\n",
    "\n",
    "$$\n",
    "\\frac{\\partial u^\\text{s}}{\\partial r}-\\mathrm{i}ku^\\text{s}=o(r^{-1})\n",
    "$$\n",
    "\n",
    "for $r:=|\\mathbf{x}|\\rightarrow\\infty$.\n",
    "\n",
    "From Green's representation formula, one can derive that\n",
    "\n",
    "$$\n",
    "u(\\mathbf x) = u^\\text{inc}-\\int_{\\Gamma}g(\\mathbf x,\\mathbf y)\\frac{\\partial u}{\\partial\\nu}(\\mathbf y)\\mathrm{d}\\mathbf{y}.\n",
    "$$\n",
    "\n",
    "Here, $g(\\mathbf x, \\mathbf y)$ is the acoustic Green's function given by\n",
    "\n",
    "$$\n",
    "g(\\mathbf x, \\mathbf y):=\\frac{\\mathrm{e}^{\\mathrm{i} k |\\mathbf{x}-\\mathbf{y}|}}{4 \\pi |\\mathbf{x}-\\mathbf{y}|}.\n",
    "$$\n",
    "\n",
    "The problem has therefore been reduced to computing the normal derivative $u_\\nu:=\\frac{\\partial u}{\\partial\\nu}$ on the boundary $\\Gamma$. This is achieved using the following boundary integral equation formulation.\n",
    "\n",
    "$$\n",
    "(\\tfrac12\\mathsf{Id} + \\mathsf{K}' - \\mathrm{i} \\eta \\mathsf{V}) u_\\nu(\\mathbf{x}) = \\frac{\\partial u^{\\text{inc}}}{\\partial \\nu}(\\mathbf{x}) - \\mathrm{i} \\eta u^{\\text{inc}}(\\mathbf{x}), \\quad \\mathbf{x} \\in \\Gamma.\n",
    "$$\n",
    "\n",
    "where $\\mathsf{Id}$, $\\mathsf{K}'$ and $\\mathsf{V}$ are identity, adjoint double layer and single layer <a href='https://bempp.com/2017/07/11/available_operators/'>boundary operators</a>. More details of the derivation of this formulation and its properties can be found in the article <a href='http://journals.cambridge.org/action/displayAbstract?fromPage=online&aid=8539370&fileId=S0962492912000037' target='new'>Chandler-Wilde <em>et al</em> (2012)</a>.\n"
   ]
  },
  {
   "cell_type": "markdown",
   "metadata": {},
   "source": [
    "### Implementation"
   ]
  },
  {
   "cell_type": "markdown",
   "metadata": {},
   "source": [
    "First we import the Bempp module and NumPy."
   ]
  },
  {
   "cell_type": "code",
   "execution_count": 13,
   "metadata": {},
   "outputs": [
    {
     "data": {
      "text/plain": [
       "<StreamHandler stderr (DEBUG)>"
      ]
     },
     "execution_count": 13,
     "metadata": {},
     "output_type": "execute_result"
    }
   ],
   "source": [
    "import bempp.api\n",
    "import numpy as np\n",
    "\n",
    "#bempp.api.GLOBAL_PARAMETERS.ifgf.order=5\n",
    "bempp.api.GLOBAL_PARAMETERS.ifgf.tol=1e-5\n",
    "bempp.api.GLOBAL_PARAMETERS.ifgf.leaf_size=800\n",
    "bempp.api.GLOBAL_PARAMETERS.ifgf.n_elements=1\n",
    "\n",
    "bempp.api.enable_console_logging('debug')\n",
    "\n"
   ]
  },
  {
   "cell_type": "markdown",
   "metadata": {},
   "source": [
    "We define the wavenumber"
   ]
  },
  {
   "cell_type": "code",
   "execution_count": 14,
   "metadata": {},
   "outputs": [],
   "source": [
    "k = 32."
   ]
  },
  {
   "cell_type": "markdown",
   "metadata": {},
   "source": [
    "The following command creates a sphere mesh."
   ]
  },
  {
   "cell_type": "code",
   "execution_count": 15,
   "metadata": {},
   "outputs": [
    {
     "name": "stderr",
     "output_type": "stream",
     "text": [
      "bempp:HOST:INFO: Created grid with id c62fd720-d4b5-496a-83ea-009f7eb80462. Elements: 8192. Edges: 12288. Vertices: 4098\n",
      "bempp:HOST:TIMING: Grid.__init__ : 5.684e-02s\n"
     ]
    }
   ],
   "source": [
    "grid = bempp.api.shapes.regular_sphere(5)"
   ]
  },
  {
   "cell_type": "markdown",
   "metadata": {},
   "source": [
    "As basis functions, we use piecewise constant functions over the elements of the mesh. The corresponding space is initialised as follows."
   ]
  },
  {
   "cell_type": "code",
   "execution_count": 16,
   "metadata": {},
   "outputs": [
    {
     "name": "stderr",
     "output_type": "stream",
     "text": [
      "bempp:HOST:TIMING: p0_discontinuous_function_space : 3.293e-03s\n"
     ]
    }
   ],
   "source": [
    "piecewise_const_space = bempp.api.function_space(grid, \"DP\", 0)"
   ]
  },
  {
   "cell_type": "markdown",
   "metadata": {},
   "source": [
    "We now initialise the <a href='https://bempp.com/2017/07/11/operators/'>boundary operators</a>.\n",
    "A boundary operator always takes at least three space arguments: a domain space, a range space and the test space (dual to the range). In this example we only work on the space $\\mathcal{L}^2(\\Gamma)$ and we can choose all spaces to be identical."
   ]
  },
  {
   "cell_type": "code",
   "execution_count": 17,
   "metadata": {},
   "outputs": [
    {
     "name": "stdout",
     "output_type": "stream",
     "text": [
      "ifgf!\n",
      "ifgf!\n"
     ]
    }
   ],
   "source": [
    "identity = bempp.api.operators.boundary.sparse.identity(\n",
    "    piecewise_const_space, piecewise_const_space, piecewise_const_space)\n",
    "adlp = bempp.api.operators.boundary.helmholtz.adjoint_double_layer(\n",
    "    piecewise_const_space, piecewise_const_space, piecewise_const_space, k,assembler=\"ifgf\")\n",
    "slp = bempp.api.operators.boundary.helmholtz.single_layer(\n",
    "    piecewise_const_space, piecewise_const_space, piecewise_const_space, k,assembler=\"ifgf\")"
   ]
  },
  {
   "cell_type": "markdown",
   "metadata": {},
   "source": [
    "Standard arithmetic operators can be used to create linear combinations of boundary operators."
   ]
  },
  {
   "cell_type": "code",
   "execution_count": 18,
   "metadata": {},
   "outputs": [],
   "source": [
    "lhs = 0.5 * identity + adlp - 1j * k * slp"
   ]
  },
  {
   "cell_type": "markdown",
   "metadata": {},
   "source": [
    "We now form the right-hand side by defining a <a href='https://bempp.com/2017/07/11/grid-functions/'>GridFunction</a> using Python callable."
   ]
  },
  {
   "cell_type": "code",
   "execution_count": 19,
   "metadata": {},
   "outputs": [],
   "source": [
    "@bempp.api.complex_callable\n",
    "def combined_data(x, n, domain_index, result):\n",
    "    result[0] = 1j * k * np.exp(1j * k * x[0]) * (n[0]-1)\n",
    "\n",
    "grid_fun = bempp.api.GridFunction(piecewise_const_space, fun=combined_data)"
   ]
  },
  {
   "cell_type": "markdown",
   "metadata": {},
   "source": [
    "We can now use GMRES to solve the problem."
   ]
  },
  {
   "cell_type": "code",
   "execution_count": 20,
   "metadata": {},
   "outputs": [
    {
     "name": "stderr",
     "output_type": "stream",
     "text": [
      "bempp:HOST:TIMING: Start operation: \n",
      "bempp:HOST:TIMING: Finished Operation: : 0.002344369888305664s\n",
      "bempp:HOST:TIMING: assemble_sparse : 4.322e-03s\n",
      "/home/arieder/.local/lib/python3.10/site-packages/pyopencl/__init__.py:272: CompilerWarning: Non-empty compiler output encountered. Set the environment variable PYOPENCL_COMPILER_OUTPUT=1 to see more.\n",
      "  warn(\"Non-empty compiler output encountered. Set the \"\n",
      "bempp:HOST:TIMING: Start operation: Singular assembler:helmholtz_adjoint_double_layer_boundary:opencl\n",
      "bempp:HOST:TIMING: Finished Operation: Singular assembler:helmholtz_adjoint_double_layer_boundary:opencl: 0.24296975135803223s\n",
      "bempp:HOST:TIMING: Start operation: Singular assembler:helmholtz_single_layer_boundary:opencl\n",
      "bempp:HOST:TIMING: Finished Operation: Singular assembler:helmholtz_single_layer_boundary:opencl: 0.20886707305908203s\n",
      "bempp:HOST:INFO: Starting GMRES iteration\n",
      "bempp:HOST:TIMING: Start operation: Evaluating ifgf.\n",
      "bempp:HOST:TIMING: Start operation: Calling IFGF.\n"
     ]
    },
    {
     "name": "stdout",
     "output_type": "stream",
     "text": [
      "init 1\n",
      "creating new ifgf operator. n_leaf=800 order= 5 n_elements=1\n",
      "building a new octree49152, 49152\n",
      "finding bbox\n"
     ]
    },
    {
     "name": "stderr",
     "output_type": "stream",
     "text": [
      "bempp:HOST:TIMING: Finished Operation: Calling IFGF.: 896.0986819267273s\n",
      "bempp:HOST:TIMING: Start operation: Singular Corrections Evaluator\n",
      "bempp:HOST:TIMING: Finished Operation: Singular Corrections Evaluator: 0.0052356719970703125s\n",
      "bempp:HOST:TIMING: Finished Operation: Evaluating ifgf.: 896.1067354679108s\n",
      "bempp:HOST:TIMING: Start operation: Evaluating ifgf.\n",
      "bempp:HOST:TIMING: Start operation: Calling IFGF.\n"
     ]
    },
    {
     "name": "stdout",
     "output_type": "stream",
     "text": [
      "bbox=-0.999905 -0.999905 -0.999905\t0.999905 0.999905 0.999905\n",
      "sorting...\n",
      "building the nodes up to level4\n",
      "estimating the order needed to achieve 1e-05\n",
      "new chebnodes\n",
      "new chebnodes\n",
      "new chebnodes\n",
      "new chebnodes\n",
      "new chebnodes\n",
      "new chebnodes\n",
      "using order=7\n",
      "calculating interp range\n",
      "n= 19  57 114\n",
      "box=1.79769e+308 1.79769e+308 1.79769e+308 -1.79769e+308 -1.79769e+308 -1.79769e+308 1\n",
      "n=10 30 60\n",
      "box=0.536071 0.869383 0.696959 0.537831  1.00014 0.873838 0\n",
      "n= 5 15 30\n",
      "box=0.273403 0.799505 -1.50437 0.502484  2.91229  0.93294 0\n",
      "n= 3  9 18\n",
      "box=  0.122231 0.00645754   -3.14158 0.46336 2.42407 3.14158 0\n",
      "interp_domain:       0        0 -3.14159 0.537831  3.14133  3.14159\n",
      "mult7\n",
      "permutation\n",
      "boxes=120\n",
      "base size 2  6 12\n",
      "now go\n",
      "doing recursive at level2\n",
      "now proceeding iteratively1\n",
      "level=1\n",
      "step 1\n",
      "step 2\n",
      "step 3\n",
      "level=0\n",
      "step 1\n",
      "step 2\n",
      "done\n",
      "starting singular correction\n",
      "done with singular corrections\n",
      "init 2\n",
      "creating new ifgf operator. n_leaf=800 order= 5 n_elements=1\n"
     ]
    },
    {
     "name": "stderr",
     "output_type": "stream",
     "text": [
      "bempp:HOST:TIMING: Finished Operation: Calling IFGF.: 897.6458823680878s\n",
      "bempp:HOST:TIMING: Start operation: Singular Corrections Evaluator\n",
      "bempp:HOST:TIMING: Finished Operation: Singular Corrections Evaluator: 0.0053822994232177734s\n",
      "bempp:HOST:TIMING: Finished Operation: Evaluating ifgf.: 897.6539416313171s\n",
      "bempp:HOST:TIMING: Start operation: Evaluating ifgf.\n",
      "bempp:HOST:TIMING: Start operation: Calling IFGF.\n"
     ]
    },
    {
     "name": "stdout",
     "output_type": "stream",
     "text": [
      "building a new octree49152, 49152\n",
      "finding bbox\n",
      "bbox=-0.999905 -0.999905 -0.999905\t0.999905 0.999905 0.999905\n",
      "sorting...\n",
      "building the nodes up to level4\n",
      "estimating the order needed to achieve 1e-05\n",
      "using order=7\n",
      "calculating interp range\n",
      "n= 19  57 114\n",
      "box=1.79769e+308 1.79769e+308 1.79769e+308 -1.79769e+308 -1.79769e+308 -1.79769e+308 1\n",
      "n=10 30 60\n",
      "box=0.536071 0.869383 0.696959 0.537831  1.00014 0.873838 0\n",
      "n= 5 15 30\n",
      "box=0.273403 0.799505 0.637856 0.502484  2.91229  3.07517 0\n",
      "n= 3  9 18\n",
      "box=0.124621 0.474818 -3.14159 0.457709  3.10931  3.14158 0\n",
      "interp_domain:       0        0 -3.14159 0.537831  3.14133  3.14159\n",
      "mult7\n",
      "permutation\n",
      "boxes=120\n",
      "base size 2  6 12\n",
      "now go\n",
      "doing recursive at level2\n",
      "now proceeding iteratively1\n",
      "level=1\n",
      "step 1\n",
      "step 2\n",
      "step 3\n",
      "level=0\n",
      "step 1\n",
      "step 2\n",
      "done\n",
      "starting singular correction\n",
      "done with singular corrections\n",
      "init 3\n",
      "creating new ifgf operator. n_leaf=800 order= 5 n_elements=1\n"
     ]
    },
    {
     "name": "stderr",
     "output_type": "stream",
     "text": [
      "bempp:HOST:TIMING: Finished Operation: Calling IFGF.: 865.7382471561432s\n",
      "bempp:HOST:TIMING: Start operation: Singular Corrections Evaluator\n",
      "bempp:HOST:TIMING: Finished Operation: Singular Corrections Evaluator: 0.005654573440551758s\n",
      "bempp:HOST:TIMING: Finished Operation: Evaluating ifgf.: 865.7462389469147s\n",
      "bempp:HOST:TIMING: Start operation: Evaluating ifgf.\n",
      "bempp:HOST:TIMING: Start operation: Calling IFGF.\n"
     ]
    },
    {
     "name": "stdout",
     "output_type": "stream",
     "text": [
      "building a new octree49152, 49152\n",
      "finding bbox\n",
      "bbox=-0.999905 -0.999905 -0.999905\t0.999905 0.999905 0.999905\n",
      "sorting...\n",
      "building the nodes up to level4\n",
      "estimating the order needed to achieve 1e-05\n",
      "using order=7\n",
      "calculating interp range\n",
      "n= 19  57 114\n",
      "box=1.79769e+308 1.79769e+308 1.79769e+308 -1.79769e+308 -1.79769e+308 -1.79769e+308 1\n",
      "n=10 30 60\n",
      "box=0.536071 0.869383 0.696959 0.537831  1.00014 0.873838 0\n",
      "n= 5 15 30\n",
      "box=0.273403 0.229307 -1.50437 0.502484  2.34209  0.93294 0\n",
      "n= 3  9 18\n",
      "box=0.127718  0.61193 -3.14157  0.4082 3.13776 3.14158 0\n",
      "interp_domain:       0        0 -3.14159 0.537831  3.14133  3.14159\n",
      "mult7\n",
      "permutation\n",
      "boxes=120\n",
      "base size 2  6 12\n",
      "now go\n",
      "doing recursive at level2\n",
      "now proceeding iteratively1\n",
      "level=1\n",
      "step 1\n",
      "step 2\n",
      "step 3\n",
      "level=0\n",
      "step 1\n",
      "step 2\n",
      "done\n",
      "starting singular correction\n",
      "done with singular corrections\n",
      "init 0\n",
      "creating new ifgf operator. n_leaf=800 order= 5 n_elements=1\n"
     ]
    },
    {
     "name": "stderr",
     "output_type": "stream",
     "text": [
      "bempp:HOST:TIMING: Finished Operation: Calling IFGF.: 235.42690205574036s\n",
      "bempp:HOST:TIMING: Start operation: Singular Corrections Evaluator\n",
      "bempp:HOST:TIMING: Finished Operation: Singular Corrections Evaluator: 0.004921674728393555s\n",
      "bempp:HOST:TIMING: Finished Operation: Evaluating ifgf.: 235.43416047096252s\n",
      "bempp:HOST:TIMING: Start operation: Evaluating ifgf.\n",
      "bempp:HOST:TIMING: Start operation: Calling IFGF.\n"
     ]
    },
    {
     "name": "stdout",
     "output_type": "stream",
     "text": [
      "building a new octree49152, 49152\n",
      "finding bbox\n",
      "bbox=-0.999905 -0.999905 -0.999905\t0.999905 0.999905 0.999905\n",
      "sorting...\n",
      "building the nodes up to level4\n",
      "estimating the order needed to achieve 1e-05\n",
      "using order=5\n",
      "calculating interp range\n",
      "n= 26  78 156\n",
      "box=1.79769e+308 1.79769e+308 1.79769e+308 -1.79769e+308 -1.79769e+308 -1.79769e+308 1\n",
      "n=13 39 78\n",
      "box=0.536071 0.869383 0.696959 0.537831  1.00014 0.873838 0\n",
      "n= 7 21 42\n",
      "box=  0.273403 0.00098991   -3.14152 0.502484  1.52379   3.1415 0\n",
      "n= 4 12 24\n",
      "box=  0.122231 0.00645754   -3.14159 0.46336 2.42407 3.14156 0\n",
      "interp_domain:       0        0 -3.14159 0.537831   3.1406  3.14159\n",
      "mult5\n",
      "permutation\n",
      "boxes=120\n",
      "base size 3  9 18\n",
      "now go\n",
      "doing recursive at level2\n",
      "now proceeding iteratively1\n",
      "level=1\n",
      "step 1\n",
      "step 2\n",
      "step 3\n",
      "level=0\n",
      "step 1\n",
      "step 2\n",
      "done\n",
      "starting singular correction\n",
      "done with singular corrections\n",
      "mult7\n",
      "permutation\n",
      "boxes=120\n",
      "base size 2  6 12\n",
      "now go\n",
      "doing recursive at level2\n",
      "now proceeding iteratively1\n",
      "level=1\n",
      "step 1\n",
      "step 2\n",
      "step 3\n",
      "level=0\n",
      "step 1\n",
      "step 2\n",
      "done\n"
     ]
    },
    {
     "name": "stderr",
     "output_type": "stream",
     "text": [
      "bempp:HOST:TIMING: Finished Operation: Calling IFGF.: 10.488067150115967s\n",
      "bempp:HOST:TIMING: Start operation: Singular Corrections Evaluator\n",
      "bempp:HOST:TIMING: Finished Operation: Singular Corrections Evaluator: 0.0049936771392822266s\n",
      "bempp:HOST:TIMING: Finished Operation: Evaluating ifgf.: 10.495793581008911s\n",
      "bempp:HOST:TIMING: Start operation: Evaluating ifgf.\n",
      "bempp:HOST:TIMING: Start operation: Calling IFGF.\n",
      "bempp:HOST:TIMING: Finished Operation: Calling IFGF.: 11.593281984329224s\n"
     ]
    },
    {
     "name": "stdout",
     "output_type": "stream",
     "text": [
      "starting singular correction\n",
      "done with singular corrections\n",
      "mult7\n",
      "permutation\n",
      "boxes=120\n",
      "base size 2  6 12\n",
      "now go\n",
      "doing recursive at level2\n",
      "now proceeding iteratively1\n",
      "level=1\n",
      "step 1\n",
      "step 2\n",
      "step 3\n",
      "level=0\n",
      "step 1\n",
      "step 2\n",
      "done\n"
     ]
    },
    {
     "name": "stderr",
     "output_type": "stream",
     "text": [
      "bempp:HOST:TIMING: Start operation: Singular Corrections Evaluator\n",
      "bempp:HOST:TIMING: Finished Operation: Singular Corrections Evaluator: 0.004883289337158203s\n",
      "bempp:HOST:TIMING: Finished Operation: Evaluating ifgf.: 11.600889444351196s\n",
      "bempp:HOST:TIMING: Start operation: Evaluating ifgf.\n",
      "bempp:HOST:TIMING: Start operation: Calling IFGF.\n",
      "bempp:HOST:TIMING: Finished Operation: Calling IFGF.: 10.636362314224243s\n"
     ]
    },
    {
     "name": "stdout",
     "output_type": "stream",
     "text": [
      "starting singular correction\n",
      "done with singular corrections\n",
      "mult7\n",
      "permutation\n",
      "boxes=120\n",
      "base size 2  6 12\n",
      "now go\n",
      "doing recursive at level2\n",
      "now proceeding iteratively1\n",
      "level=1\n",
      "step 1\n",
      "step 2\n",
      "step 3\n",
      "level=0\n",
      "step 1\n",
      "step 2\n",
      "done\n"
     ]
    },
    {
     "name": "stderr",
     "output_type": "stream",
     "text": [
      "bempp:HOST:TIMING: Start operation: Singular Corrections Evaluator\n",
      "bempp:HOST:TIMING: Finished Operation: Singular Corrections Evaluator: 0.00490117073059082s\n",
      "bempp:HOST:TIMING: Finished Operation: Evaluating ifgf.: 10.643937349319458s\n",
      "bempp:HOST:TIMING: Start operation: Evaluating ifgf.\n",
      "bempp:HOST:TIMING: Start operation: Calling IFGF.\n"
     ]
    },
    {
     "name": "stdout",
     "output_type": "stream",
     "text": [
      "starting singular correction\n",
      "done with singular corrections\n",
      "mult5\n",
      "permutation\n",
      "boxes=120\n",
      "base size 3  9 18\n",
      "now go\n",
      "doing recursive at level2\n",
      "now proceeding iteratively1\n",
      "level=1\n",
      "step 1\n",
      "step 2\n",
      "step 3\n",
      "level=0\n",
      "step 1\n",
      "step 2\n",
      "done\n"
     ]
    },
    {
     "name": "stderr",
     "output_type": "stream",
     "text": [
      "bempp:HOST:TIMING: Finished Operation: Calling IFGF.: 6.97702431678772s\n",
      "bempp:HOST:TIMING: Start operation: Singular Corrections Evaluator\n",
      "bempp:HOST:TIMING: Finished Operation: Singular Corrections Evaluator: 0.004969120025634766s\n",
      "bempp:HOST:TIMING: Finished Operation: Evaluating ifgf.: 6.984317779541016s\n",
      "bempp:HOST:TIMING: Start operation: Evaluating ifgf.\n",
      "bempp:HOST:TIMING: Start operation: Calling IFGF.\n"
     ]
    },
    {
     "name": "stdout",
     "output_type": "stream",
     "text": [
      "starting singular correction\n",
      "done with singular corrections\n"
     ]
    },
    {
     "name": "stderr",
     "output_type": "stream",
     "text": [
      "bempp:HOST:TIMING: Finished Operation: Calling IFGF.: 10.5153489112854s\n",
      "bempp:HOST:TIMING: Start operation: Singular Corrections Evaluator\n",
      "bempp:HOST:TIMING: Finished Operation: Singular Corrections Evaluator: 0.004691600799560547s\n",
      "bempp:HOST:TIMING: Finished Operation: Evaluating ifgf.: 10.52226996421814s\n",
      "bempp:HOST:TIMING: Start operation: Evaluating ifgf.\n",
      "bempp:HOST:TIMING: Start operation: Calling IFGF.\n"
     ]
    },
    {
     "name": "stdout",
     "output_type": "stream",
     "text": [
      "mult7\n",
      "permutation\n",
      "boxes=120\n",
      "base size 2  6 12\n",
      "now go\n",
      "doing recursive at level2\n",
      "now proceeding iteratively1\n",
      "level=1\n",
      "step 1\n",
      "step 2\n",
      "step 3\n",
      "level=0\n",
      "step 1\n",
      "step 2\n",
      "done\n",
      "starting singular correction\n",
      "done with singular corrections\n"
     ]
    },
    {
     "name": "stderr",
     "output_type": "stream",
     "text": [
      "bempp:HOST:TIMING: Finished Operation: Calling IFGF.: 10.615927934646606s\n",
      "bempp:HOST:TIMING: Start operation: Singular Corrections Evaluator\n",
      "bempp:HOST:TIMING: Finished Operation: Singular Corrections Evaluator: 0.004777669906616211s\n",
      "bempp:HOST:TIMING: Finished Operation: Evaluating ifgf.: 10.623135328292847s\n",
      "bempp:HOST:TIMING: Start operation: Evaluating ifgf.\n",
      "bempp:HOST:TIMING: Start operation: Calling IFGF.\n"
     ]
    },
    {
     "name": "stdout",
     "output_type": "stream",
     "text": [
      "mult7\n",
      "permutation\n",
      "boxes=120\n",
      "base size 2  6 12\n",
      "now go\n",
      "doing recursive at level2\n",
      "now proceeding iteratively1\n",
      "level=1\n",
      "step 1\n",
      "step 2\n",
      "step 3\n",
      "level=0\n",
      "step 1\n",
      "step 2\n",
      "done\n",
      "starting singular correction\n",
      "done with singular corrections\n",
      "mult7\n",
      "permutation\n",
      "boxes=120\n",
      "base size 2  6 12\n",
      "now go\n",
      "doing recursive at level2\n",
      "now proceeding iteratively1\n",
      "level=1\n",
      "step 1\n",
      "step 2\n",
      "step 3\n",
      "level=0\n",
      "step 1\n",
      "step 2\n",
      "done\n"
     ]
    },
    {
     "name": "stderr",
     "output_type": "stream",
     "text": [
      "bempp:HOST:TIMING: Finished Operation: Calling IFGF.: 11.162121295928955s\n",
      "bempp:HOST:TIMING: Start operation: Singular Corrections Evaluator\n",
      "bempp:HOST:TIMING: Finished Operation: Singular Corrections Evaluator: 0.004918098449707031s\n",
      "bempp:HOST:TIMING: Finished Operation: Evaluating ifgf.: 11.170012950897217s\n",
      "bempp:HOST:TIMING: Start operation: Evaluating ifgf.\n",
      "bempp:HOST:TIMING: Start operation: Calling IFGF.\n"
     ]
    },
    {
     "name": "stdout",
     "output_type": "stream",
     "text": [
      "starting singular correction\n",
      "done with singular corrections\n"
     ]
    },
    {
     "name": "stderr",
     "output_type": "stream",
     "text": [
      "bempp:HOST:TIMING: Finished Operation: Calling IFGF.: 6.720900535583496s\n",
      "bempp:HOST:TIMING: Start operation: Singular Corrections Evaluator\n",
      "bempp:HOST:TIMING: Finished Operation: Singular Corrections Evaluator: 0.0046880245208740234s\n",
      "bempp:HOST:TIMING: Finished Operation: Evaluating ifgf.: 6.728011846542358s\n",
      "bempp:HOST:INFO: GMRES Iteration 1 with residual 0.4195827239161947\n",
      "bempp:HOST:TIMING: Start operation: Evaluating ifgf.\n",
      "bempp:HOST:TIMING: Start operation: Calling IFGF.\n"
     ]
    },
    {
     "name": "stdout",
     "output_type": "stream",
     "text": [
      "mult5\n",
      "permutation\n",
      "boxes=120\n",
      "base size 3  9 18\n",
      "now go\n",
      "doing recursive at level2\n",
      "now proceeding iteratively1\n",
      "level=1\n",
      "step 1\n",
      "step 2\n",
      "step 3\n",
      "level=0\n",
      "step 1\n",
      "step 2\n",
      "done\n",
      "starting singular correction\n",
      "done with singular corrections\n",
      "mult7\n",
      "permutation\n"
     ]
    },
    {
     "name": "stderr",
     "output_type": "stream",
     "text": [
      "bempp:HOST:TIMING: Finished Operation: Calling IFGF.: 11.804637670516968s\n",
      "bempp:HOST:TIMING: Start operation: Singular Corrections Evaluator\n",
      "bempp:HOST:TIMING: Finished Operation: Singular Corrections Evaluator: 0.004735708236694336s\n",
      "bempp:HOST:TIMING: Finished Operation: Evaluating ifgf.: 11.811676502227783s\n",
      "bempp:HOST:TIMING: Start operation: Evaluating ifgf.\n",
      "bempp:HOST:TIMING: Start operation: Calling IFGF.\n"
     ]
    },
    {
     "name": "stdout",
     "output_type": "stream",
     "text": [
      "boxes=120\n",
      "base size 2  6 12\n",
      "now go\n",
      "doing recursive at level2\n",
      "now proceeding iteratively1\n",
      "level=1\n",
      "step 1\n",
      "step 2\n",
      "step 3\n",
      "level=0\n",
      "step 1\n",
      "step 2\n",
      "done\n",
      "starting singular correction\n",
      "done with singular corrections\n"
     ]
    },
    {
     "name": "stderr",
     "output_type": "stream",
     "text": [
      "bempp:HOST:TIMING: Finished Operation: Calling IFGF.: 10.801259517669678s\n",
      "bempp:HOST:TIMING: Start operation: Singular Corrections Evaluator\n",
      "bempp:HOST:TIMING: Finished Operation: Singular Corrections Evaluator: 0.0048828125s\n",
      "bempp:HOST:TIMING: Finished Operation: Evaluating ifgf.: 10.80846619606018s\n",
      "bempp:HOST:TIMING: Start operation: Evaluating ifgf.\n",
      "bempp:HOST:TIMING: Start operation: Calling IFGF.\n"
     ]
    },
    {
     "name": "stdout",
     "output_type": "stream",
     "text": [
      "mult7\n",
      "permutation\n",
      "boxes=120\n",
      "base size 2  6 12\n",
      "now go\n",
      "doing recursive at level2\n",
      "now proceeding iteratively1\n",
      "level=1\n",
      "step 1\n",
      "step 2\n",
      "step 3\n",
      "level=0\n",
      "step 1\n",
      "step 2\n",
      "done\n",
      "starting singular correction\n",
      "done with singular corrections\n"
     ]
    },
    {
     "name": "stderr",
     "output_type": "stream",
     "text": [
      "bempp:HOST:TIMING: Finished Operation: Calling IFGF.: 10.577364206314087s\n",
      "bempp:HOST:TIMING: Start operation: Singular Corrections Evaluator\n",
      "bempp:HOST:TIMING: Finished Operation: Singular Corrections Evaluator: 0.004959821701049805s\n",
      "bempp:HOST:TIMING: Finished Operation: Evaluating ifgf.: 10.584754228591919s\n",
      "bempp:HOST:TIMING: Start operation: Evaluating ifgf.\n",
      "bempp:HOST:TIMING: Start operation: Calling IFGF.\n"
     ]
    },
    {
     "name": "stdout",
     "output_type": "stream",
     "text": [
      "mult7\n",
      "permutation\n",
      "boxes=120\n",
      "base size 2  6 12\n",
      "now go\n",
      "doing recursive at level2\n",
      "now proceeding iteratively1\n",
      "level=1\n",
      "step 1\n",
      "step 2\n",
      "step 3\n",
      "level=0\n",
      "step 1\n",
      "step 2\n",
      "done\n",
      "starting singular correction\n",
      "done with singular corrections\n"
     ]
    },
    {
     "name": "stderr",
     "output_type": "stream",
     "text": [
      "bempp:HOST:TIMING: Finished Operation: Calling IFGF.: 6.877792835235596s\n",
      "bempp:HOST:TIMING: Start operation: Singular Corrections Evaluator\n",
      "bempp:HOST:TIMING: Finished Operation: Singular Corrections Evaluator: 0.0052337646484375s\n",
      "bempp:HOST:TIMING: Finished Operation: Evaluating ifgf.: 6.885560989379883s\n",
      "bempp:HOST:INFO: GMRES Iteration 2 with residual 0.21066085481435953\n",
      "bempp:HOST:TIMING: Start operation: Evaluating ifgf.\n",
      "bempp:HOST:TIMING: Start operation: Calling IFGF.\n",
      "bempp:HOST:TIMING: Finished Operation: Calling IFGF.: 9.953311920166016s\n"
     ]
    },
    {
     "name": "stdout",
     "output_type": "stream",
     "text": [
      "mult5\n",
      "permutation\n",
      "boxes=120\n",
      "base size 3  9 18\n",
      "now go\n",
      "doing recursive at level2\n",
      "now proceeding iteratively1\n",
      "level=1\n",
      "step 1\n",
      "step 2\n",
      "step 3\n",
      "level=0\n",
      "step 1\n",
      "step 2\n",
      "done\n",
      "starting singular correction\n",
      "done with singular corrections\n",
      "mult7\n",
      "permutation\n",
      "boxes=120\n",
      "base size 2  6 12\n",
      "now go\n",
      "doing recursive at level2\n",
      "now proceeding iteratively1\n",
      "level=1\n",
      "step 1\n",
      "step 2\n",
      "step 3\n",
      "level=0\n",
      "step 1\n",
      "step 2\n",
      "done\n"
     ]
    },
    {
     "name": "stderr",
     "output_type": "stream",
     "text": [
      "bempp:HOST:TIMING: Start operation: Singular Corrections Evaluator\n",
      "bempp:HOST:TIMING: Finished Operation: Singular Corrections Evaluator: 0.005567073822021484s\n",
      "bempp:HOST:TIMING: Finished Operation: Evaluating ifgf.: 9.961523294448853s\n",
      "bempp:HOST:TIMING: Start operation: Evaluating ifgf.\n",
      "bempp:HOST:TIMING: Start operation: Calling IFGF.\n"
     ]
    },
    {
     "name": "stdout",
     "output_type": "stream",
     "text": [
      "starting singular correction\n",
      "done with singular corrections\n"
     ]
    },
    {
     "name": "stderr",
     "output_type": "stream",
     "text": [
      "bempp:HOST:TIMING: Finished Operation: Calling IFGF.: 10.26663064956665s\n",
      "bempp:HOST:TIMING: Start operation: Singular Corrections Evaluator\n",
      "bempp:HOST:TIMING: Finished Operation: Singular Corrections Evaluator: 0.005157470703125s\n",
      "bempp:HOST:TIMING: Finished Operation: Evaluating ifgf.: 10.274375200271606s\n",
      "bempp:HOST:TIMING: Start operation: Evaluating ifgf.\n",
      "bempp:HOST:TIMING: Start operation: Calling IFGF.\n"
     ]
    },
    {
     "name": "stdout",
     "output_type": "stream",
     "text": [
      "mult7\n",
      "permutation\n",
      "boxes=120\n",
      "base size 2  6 12\n",
      "now go\n",
      "doing recursive at level2\n",
      "now proceeding iteratively1\n",
      "level=1\n",
      "step 1\n",
      "step 2\n",
      "step 3\n",
      "level=0\n",
      "step 1\n",
      "step 2\n",
      "done\n",
      "starting singular correction\n",
      "done with singular corrections\n",
      "mult7\n",
      "permutation\n",
      "boxes=120\n",
      "base size 2  6 12\n",
      "now go\n",
      "doing recursive at level2\n",
      "now proceeding iteratively1\n",
      "level=1\n",
      "step 1\n",
      "step 2\n",
      "step 3\n",
      "level=0\n",
      "step 1\n",
      "step 2\n",
      "done\n"
     ]
    },
    {
     "name": "stderr",
     "output_type": "stream",
     "text": [
      "bempp:HOST:TIMING: Finished Operation: Calling IFGF.: 10.604056596755981s\n",
      "bempp:HOST:TIMING: Start operation: Singular Corrections Evaluator\n",
      "bempp:HOST:TIMING: Finished Operation: Singular Corrections Evaluator: 0.00496220588684082s\n",
      "bempp:HOST:TIMING: Finished Operation: Evaluating ifgf.: 10.611977577209473s\n",
      "bempp:HOST:TIMING: Start operation: Evaluating ifgf.\n",
      "bempp:HOST:TIMING: Start operation: Calling IFGF.\n"
     ]
    },
    {
     "name": "stdout",
     "output_type": "stream",
     "text": [
      "starting singular correction\n",
      "done with singular corrections\n"
     ]
    },
    {
     "name": "stderr",
     "output_type": "stream",
     "text": [
      "bempp:HOST:TIMING: Finished Operation: Calling IFGF.: 6.770940542221069s\n",
      "bempp:HOST:TIMING: Start operation: Singular Corrections Evaluator\n",
      "bempp:HOST:TIMING: Finished Operation: Singular Corrections Evaluator: 0.00493931770324707s\n",
      "bempp:HOST:TIMING: Finished Operation: Evaluating ifgf.: 6.778317213058472s\n",
      "bempp:HOST:INFO: GMRES Iteration 3 with residual 0.10673046045581343\n",
      "bempp:HOST:TIMING: Start operation: Evaluating ifgf.\n",
      "bempp:HOST:TIMING: Start operation: Calling IFGF.\n"
     ]
    },
    {
     "name": "stdout",
     "output_type": "stream",
     "text": [
      "mult5\n",
      "permutation\n",
      "boxes=120\n",
      "base size 3  9 18\n",
      "now go\n",
      "doing recursive at level2\n",
      "now proceeding iteratively1\n",
      "level=1\n",
      "step 1\n",
      "step 2\n",
      "step 3\n",
      "level=0\n",
      "step 1\n",
      "step 2\n",
      "done\n",
      "starting singular correction\n",
      "done with singular corrections\n",
      "mult7\n",
      "permutation\n",
      "boxes=120\n",
      "base size 2  6 12\n",
      "now go\n",
      "doing recursive at level2\n",
      "now proceeding iteratively1\n",
      "level=1\n",
      "step 1\n",
      "step 2\n",
      "step 3\n",
      "level=0\n",
      "step 1\n",
      "step 2\n",
      "done\n"
     ]
    },
    {
     "name": "stderr",
     "output_type": "stream",
     "text": [
      "bempp:HOST:TIMING: Finished Operation: Calling IFGF.: 10.295873403549194s\n",
      "bempp:HOST:TIMING: Start operation: Singular Corrections Evaluator\n",
      "bempp:HOST:TIMING: Finished Operation: Singular Corrections Evaluator: 0.0047931671142578125s\n",
      "bempp:HOST:TIMING: Finished Operation: Evaluating ifgf.: 10.302963733673096s\n",
      "bempp:HOST:TIMING: Start operation: Evaluating ifgf.\n",
      "bempp:HOST:TIMING: Start operation: Calling IFGF.\n"
     ]
    },
    {
     "name": "stdout",
     "output_type": "stream",
     "text": [
      "starting singular correction\n",
      "done with singular corrections\n",
      "mult7\n",
      "permutation\n",
      "boxes=120\n",
      "base size 2  6 12\n",
      "now go\n",
      "doing recursive at level2\n",
      "now proceeding iteratively1\n",
      "level=1\n",
      "step 1\n",
      "step 2\n",
      "step 3\n",
      "level=0\n",
      "step 1\n",
      "step 2\n",
      "done\n"
     ]
    },
    {
     "name": "stderr",
     "output_type": "stream",
     "text": [
      "bempp:HOST:TIMING: Finished Operation: Calling IFGF.: 10.420705795288086s\n",
      "bempp:HOST:TIMING: Start operation: Singular Corrections Evaluator\n",
      "bempp:HOST:TIMING: Finished Operation: Singular Corrections Evaluator: 0.005684852600097656s\n",
      "bempp:HOST:TIMING: Finished Operation: Evaluating ifgf.: 10.428686380386353s\n",
      "bempp:HOST:TIMING: Start operation: Evaluating ifgf.\n",
      "bempp:HOST:TIMING: Start operation: Calling IFGF.\n"
     ]
    },
    {
     "name": "stdout",
     "output_type": "stream",
     "text": [
      "starting singular correction\n",
      "done with singular corrections\n"
     ]
    },
    {
     "name": "stderr",
     "output_type": "stream",
     "text": [
      "bempp:HOST:TIMING: Finished Operation: Calling IFGF.: 11.826689958572388s\n",
      "bempp:HOST:TIMING: Start operation: Singular Corrections Evaluator\n",
      "bempp:HOST:TIMING: Finished Operation: Singular Corrections Evaluator: 0.005224943161010742s\n",
      "bempp:HOST:TIMING: Finished Operation: Evaluating ifgf.: 11.834323406219482s\n",
      "bempp:HOST:TIMING: Start operation: Evaluating ifgf.\n",
      "bempp:HOST:TIMING: Start operation: Calling IFGF.\n",
      "bempp:HOST:TIMING: Finished Operation: Calling IFGF.: 6.707571506500244s\n"
     ]
    },
    {
     "name": "stdout",
     "output_type": "stream",
     "text": [
      "mult7\n",
      "permutation\n",
      "boxes=120\n",
      "base size 2  6 12\n",
      "now go\n",
      "doing recursive at level2\n",
      "now proceeding iteratively1\n",
      "level=1\n",
      "step 1\n",
      "step 2\n",
      "step 3\n",
      "level=0\n",
      "step 1\n",
      "step 2\n",
      "done\n",
      "starting singular correction\n",
      "done with singular corrections\n",
      "mult5\n",
      "permutation\n",
      "boxes=120\n",
      "base size 3  9 18\n",
      "now go\n",
      "doing recursive at level2\n",
      "now proceeding iteratively1\n",
      "level=1\n",
      "step 1\n",
      "step 2\n",
      "step 3\n",
      "level=0\n",
      "step 1\n",
      "step 2\n",
      "done\n"
     ]
    },
    {
     "name": "stderr",
     "output_type": "stream",
     "text": [
      "bempp:HOST:TIMING: Start operation: Singular Corrections Evaluator\n",
      "bempp:HOST:TIMING: Finished Operation: Singular Corrections Evaluator: 0.00478053092956543s\n",
      "bempp:HOST:TIMING: Finished Operation: Evaluating ifgf.: 6.715071678161621s\n",
      "bempp:HOST:INFO: GMRES Iteration 4 with residual 0.05977697598381615\n",
      "bempp:HOST:TIMING: Start operation: Evaluating ifgf.\n",
      "bempp:HOST:TIMING: Start operation: Calling IFGF.\n"
     ]
    },
    {
     "name": "stdout",
     "output_type": "stream",
     "text": [
      "starting singular correction\n",
      "done with singular corrections\n",
      "mult7\n",
      "permutation\n"
     ]
    },
    {
     "name": "stderr",
     "output_type": "stream",
     "text": [
      "bempp:HOST:TIMING: Finished Operation: Calling IFGF.: 11.699582576751709s\n",
      "bempp:HOST:TIMING: Start operation: Singular Corrections Evaluator\n",
      "bempp:HOST:TIMING: Finished Operation: Singular Corrections Evaluator: 0.005296468734741211s\n",
      "bempp:HOST:TIMING: Finished Operation: Evaluating ifgf.: 11.707165718078613s\n",
      "bempp:HOST:TIMING: Start operation: Evaluating ifgf.\n",
      "bempp:HOST:TIMING: Start operation: Calling IFGF.\n",
      "bempp:HOST:TIMING: Finished Operation: Calling IFGF.: 11.659390449523926s\n"
     ]
    },
    {
     "name": "stdout",
     "output_type": "stream",
     "text": [
      "boxes=120\n",
      "base size 2  6 12\n",
      "now go\n",
      "doing recursive at level2\n",
      "now proceeding iteratively1\n",
      "level=1\n",
      "step 1\n",
      "step 2\n",
      "step 3\n",
      "level=0\n",
      "step 1\n",
      "step 2\n",
      "done\n",
      "starting singular correction\n",
      "done with singular corrections\n",
      "mult7\n",
      "permutation\n",
      "boxes=120\n",
      "base size 2  6 12\n",
      "now go\n",
      "doing recursive at level2\n",
      "now proceeding iteratively1\n",
      "level=1\n",
      "step 1\n",
      "step 2\n",
      "step 3\n",
      "level=0\n",
      "step 1\n",
      "step 2\n",
      "done\n"
     ]
    },
    {
     "name": "stderr",
     "output_type": "stream",
     "text": [
      "bempp:HOST:TIMING: Start operation: Singular Corrections Evaluator\n",
      "bempp:HOST:TIMING: Finished Operation: Singular Corrections Evaluator: 0.005075693130493164s\n",
      "bempp:HOST:TIMING: Finished Operation: Evaluating ifgf.: 11.667075395584106s\n",
      "bempp:HOST:TIMING: Start operation: Evaluating ifgf.\n",
      "bempp:HOST:TIMING: Start operation: Calling IFGF.\n"
     ]
    },
    {
     "name": "stdout",
     "output_type": "stream",
     "text": [
      "starting singular correction\n",
      "done with singular corrections\n"
     ]
    },
    {
     "name": "stderr",
     "output_type": "stream",
     "text": [
      "bempp:HOST:TIMING: Finished Operation: Calling IFGF.: 10.594852447509766s\n",
      "bempp:HOST:TIMING: Start operation: Singular Corrections Evaluator\n",
      "bempp:HOST:TIMING: Finished Operation: Singular Corrections Evaluator: 0.004915714263916016s\n",
      "bempp:HOST:TIMING: Finished Operation: Evaluating ifgf.: 10.60172176361084s\n",
      "bempp:HOST:TIMING: Start operation: Evaluating ifgf.\n",
      "bempp:HOST:TIMING: Start operation: Calling IFGF.\n"
     ]
    },
    {
     "name": "stdout",
     "output_type": "stream",
     "text": [
      "mult7\n",
      "permutation\n",
      "boxes=120\n",
      "base size 2  6 12\n",
      "now go\n",
      "doing recursive at level2\n",
      "now proceeding iteratively1\n",
      "level=1\n",
      "step 1\n",
      "step 2\n",
      "step 3\n",
      "level=0\n",
      "step 1\n",
      "step 2\n",
      "done\n",
      "starting singular correction\n",
      "done with singular corrections\n",
      "mult5\n",
      "permutation\n"
     ]
    },
    {
     "name": "stderr",
     "output_type": "stream",
     "text": [
      "bempp:HOST:TIMING: Finished Operation: Calling IFGF.: 6.602910757064819s\n",
      "bempp:HOST:TIMING: Start operation: Singular Corrections Evaluator\n",
      "bempp:HOST:TIMING: Finished Operation: Singular Corrections Evaluator: 0.005042314529418945s\n",
      "bempp:HOST:TIMING: Finished Operation: Evaluating ifgf.: 6.610367059707642s\n",
      "bempp:HOST:INFO: GMRES Iteration 5 with residual 0.0373736204597314\n",
      "bempp:HOST:TIMING: Start operation: Evaluating ifgf.\n",
      "bempp:HOST:TIMING: Start operation: Calling IFGF.\n"
     ]
    },
    {
     "name": "stdout",
     "output_type": "stream",
     "text": [
      "boxes=120\n",
      "base size 3  9 18\n",
      "now go\n",
      "doing recursive at level2\n",
      "now proceeding iteratively1\n",
      "level=1\n",
      "step 1\n",
      "step 2\n",
      "step 3\n",
      "level=0\n",
      "step 1\n",
      "step 2\n",
      "done\n",
      "starting singular correction\n",
      "done with singular corrections\n",
      "mult7\n",
      "permutation\n"
     ]
    },
    {
     "name": "stderr",
     "output_type": "stream",
     "text": [
      "bempp:HOST:TIMING: Finished Operation: Calling IFGF.: 10.429062128067017s\n",
      "bempp:HOST:TIMING: Start operation: Singular Corrections Evaluator\n",
      "bempp:HOST:TIMING: Finished Operation: Singular Corrections Evaluator: 0.005421638488769531s\n",
      "bempp:HOST:TIMING: Finished Operation: Evaluating ifgf.: 10.436893463134766s\n",
      "bempp:HOST:TIMING: Start operation: Evaluating ifgf.\n",
      "bempp:HOST:TIMING: Start operation: Calling IFGF.\n"
     ]
    },
    {
     "name": "stdout",
     "output_type": "stream",
     "text": [
      "boxes=120\n",
      "base size 2  6 12\n",
      "now go\n",
      "doing recursive at level2\n",
      "now proceeding iteratively1\n",
      "level=1\n",
      "step 1\n",
      "step 2\n",
      "step 3\n",
      "level=0\n",
      "step 1\n",
      "step 2\n",
      "done\n",
      "starting singular correction\n",
      "done with singular corrections\n"
     ]
    },
    {
     "name": "stderr",
     "output_type": "stream",
     "text": [
      "bempp:HOST:TIMING: Finished Operation: Calling IFGF.: 10.482383966445923s\n",
      "bempp:HOST:TIMING: Start operation: Singular Corrections Evaluator\n",
      "bempp:HOST:TIMING: Finished Operation: Singular Corrections Evaluator: 0.004962921142578125s\n",
      "bempp:HOST:TIMING: Finished Operation: Evaluating ifgf.: 10.48980164527893s\n",
      "bempp:HOST:TIMING: Start operation: Evaluating ifgf.\n",
      "bempp:HOST:TIMING: Start operation: Calling IFGF.\n",
      "bempp:HOST:TIMING: Finished Operation: Calling IFGF.: 10.364738702774048s\n"
     ]
    },
    {
     "name": "stdout",
     "output_type": "stream",
     "text": [
      "mult7\n",
      "permutation\n",
      "boxes=120\n",
      "base size 2  6 12\n",
      "now go\n",
      "doing recursive at level2\n",
      "now proceeding iteratively1\n",
      "level=1\n",
      "step 1\n",
      "step 2\n",
      "step 3\n",
      "level=0\n",
      "step 1\n",
      "step 2\n",
      "done\n",
      "starting singular correction\n",
      "done with singular corrections\n",
      "mult7\n",
      "permutation\n",
      "boxes=120\n",
      "base size 2  6 12\n",
      "now go\n",
      "doing recursive at level2\n",
      "now proceeding iteratively1\n",
      "level=1\n",
      "step 1\n",
      "step 2\n",
      "step 3\n",
      "level=0\n",
      "step 1\n",
      "step 2\n",
      "done\n"
     ]
    },
    {
     "name": "stderr",
     "output_type": "stream",
     "text": [
      "bempp:HOST:TIMING: Start operation: Singular Corrections Evaluator\n",
      "bempp:HOST:TIMING: Finished Operation: Singular Corrections Evaluator: 0.004871845245361328s\n",
      "bempp:HOST:TIMING: Finished Operation: Evaluating ifgf.: 10.372153759002686s\n",
      "bempp:HOST:TIMING: Start operation: Evaluating ifgf.\n",
      "bempp:HOST:TIMING: Start operation: Calling IFGF.\n"
     ]
    },
    {
     "name": "stdout",
     "output_type": "stream",
     "text": [
      "starting singular correction\n",
      "done with singular corrections\n",
      "mult5\n",
      "permutation\n"
     ]
    },
    {
     "name": "stderr",
     "output_type": "stream",
     "text": [
      "bempp:HOST:TIMING: Finished Operation: Calling IFGF.: 6.70428991317749s\n",
      "bempp:HOST:TIMING: Start operation: Singular Corrections Evaluator\n",
      "bempp:HOST:TIMING: Finished Operation: Singular Corrections Evaluator: 0.0049402713775634766s\n",
      "bempp:HOST:TIMING: Finished Operation: Evaluating ifgf.: 6.711717367172241s\n",
      "bempp:HOST:INFO: GMRES Iteration 6 with residual 0.023637319508501536\n",
      "bempp:HOST:TIMING: Start operation: Evaluating ifgf.\n",
      "bempp:HOST:TIMING: Start operation: Calling IFGF.\n"
     ]
    },
    {
     "name": "stdout",
     "output_type": "stream",
     "text": [
      "boxes=120\n",
      "base size 3  9 18\n",
      "now go\n",
      "doing recursive at level2\n",
      "now proceeding iteratively1\n",
      "level=1\n",
      "step 1\n",
      "step 2\n",
      "step 3\n",
      "level=0\n",
      "step 1\n",
      "step 2\n",
      "done\n",
      "starting singular correction\n",
      "done with singular corrections\n"
     ]
    },
    {
     "name": "stderr",
     "output_type": "stream",
     "text": [
      "bempp:HOST:TIMING: Finished Operation: Calling IFGF.: 10.324919939041138s\n",
      "bempp:HOST:TIMING: Start operation: Singular Corrections Evaluator\n",
      "bempp:HOST:TIMING: Finished Operation: Singular Corrections Evaluator: 0.004792451858520508s\n",
      "bempp:HOST:TIMING: Finished Operation: Evaluating ifgf.: 10.332109689712524s\n",
      "bempp:HOST:TIMING: Start operation: Evaluating ifgf.\n",
      "bempp:HOST:TIMING: Start operation: Calling IFGF.\n"
     ]
    },
    {
     "name": "stdout",
     "output_type": "stream",
     "text": [
      "mult7\n",
      "permutation\n",
      "starting singular correction\n",
      "boxes=120\n",
      "base size 2  6 12\n",
      "now go\n",
      "doing recursive at level2\n",
      "now proceeding iteratively1\n",
      "level=1\n",
      "step 1\n",
      "step 2\n",
      "step 3\n",
      "level=0\n",
      "step 1\n",
      "step 2\n",
      "done\n",
      "done with singular corrections\n",
      "mult7\n",
      "permutation\n"
     ]
    },
    {
     "name": "stderr",
     "output_type": "stream",
     "text": [
      "bempp:HOST:TIMING: Finished Operation: Calling IFGF.: 10.48961877822876s\n",
      "bempp:HOST:TIMING: Start operation: Singular Corrections Evaluator\n",
      "bempp:HOST:TIMING: Finished Operation: Singular Corrections Evaluator: 0.004922628402709961s\n",
      "bempp:HOST:TIMING: Finished Operation: Evaluating ifgf.: 10.497158765792847s\n",
      "bempp:HOST:TIMING: Start operation: Evaluating ifgf.\n",
      "bempp:HOST:TIMING: Start operation: Calling IFGF.\n"
     ]
    },
    {
     "name": "stdout",
     "output_type": "stream",
     "text": [
      "boxes=120\n",
      "base size 2  6 12\n",
      "now go\n",
      "doing recursive at level2\n",
      "now proceeding iteratively1\n",
      "level=1\n",
      "step 1\n",
      "step 2\n",
      "step 3\n",
      "level=0\n",
      "step 1\n",
      "step 2\n",
      "done\n",
      "starting singular correction\n",
      "done with singular corrections\n"
     ]
    },
    {
     "name": "stderr",
     "output_type": "stream",
     "text": [
      "bempp:HOST:TIMING: Finished Operation: Calling IFGF.: 10.612366914749146s\n",
      "bempp:HOST:TIMING: Start operation: Singular Corrections Evaluator\n",
      "bempp:HOST:TIMING: Finished Operation: Singular Corrections Evaluator: 0.0048923492431640625s\n",
      "bempp:HOST:TIMING: Finished Operation: Evaluating ifgf.: 10.620029926300049s\n",
      "bempp:HOST:TIMING: Start operation: Evaluating ifgf.\n",
      "bempp:HOST:TIMING: Start operation: Calling IFGF.\n"
     ]
    },
    {
     "name": "stdout",
     "output_type": "stream",
     "text": [
      "mult7\n",
      "permutation\n",
      "boxes=120\n",
      "base size 2  6 12\n",
      "now go\n",
      "doing recursive at level2\n",
      "now proceeding iteratively1\n",
      "level=1\n",
      "step 1\n",
      "step 2\n",
      "step 3\n",
      "level=0\n",
      "step 1\n",
      "step 2\n",
      "done\n",
      "starting singular correction\n",
      "done with singular corrections\n",
      "mult5\n",
      "permutation\n",
      "boxes=120\n",
      "base size 3  9 18\n",
      "now go\n",
      "doing recursive at level2\n",
      "now proceeding iteratively1\n",
      "level=1\n",
      "step 1\n",
      "step 2\n",
      "step 3\n",
      "level=0\n",
      "step 1\n",
      "step 2\n",
      "done\n"
     ]
    },
    {
     "name": "stderr",
     "output_type": "stream",
     "text": [
      "bempp:HOST:TIMING: Finished Operation: Calling IFGF.: 6.88349723815918s\n",
      "bempp:HOST:TIMING: Start operation: Singular Corrections Evaluator\n",
      "bempp:HOST:TIMING: Finished Operation: Singular Corrections Evaluator: 0.004888057708740234s\n",
      "bempp:HOST:TIMING: Finished Operation: Evaluating ifgf.: 6.890805244445801s\n",
      "bempp:HOST:INFO: GMRES Iteration 7 with residual 0.015007998958215807\n",
      "bempp:HOST:TIMING: Start operation: Evaluating ifgf.\n",
      "bempp:HOST:TIMING: Start operation: Calling IFGF.\n"
     ]
    },
    {
     "name": "stdout",
     "output_type": "stream",
     "text": [
      "starting singular correction\n",
      "done with singular corrections\n"
     ]
    },
    {
     "name": "stderr",
     "output_type": "stream",
     "text": [
      "bempp:HOST:TIMING: Finished Operation: Calling IFGF.: 10.210017681121826s\n",
      "bempp:HOST:TIMING: Start operation: Singular Corrections Evaluator\n",
      "bempp:HOST:TIMING: Finished Operation: Singular Corrections Evaluator: 0.005018472671508789s\n",
      "bempp:HOST:TIMING: Finished Operation: Evaluating ifgf.: 10.217416524887085s\n",
      "bempp:HOST:TIMING: Start operation: Evaluating ifgf.\n",
      "bempp:HOST:TIMING: Start operation: Calling IFGF.\n"
     ]
    },
    {
     "name": "stdout",
     "output_type": "stream",
     "text": [
      "mult7\n",
      "permutation\n",
      "starting singular correction\n",
      "boxes=120\n",
      "base size 2  6 12\n",
      "now go\n",
      "doing recursive at level2\n",
      "now proceeding iteratively1\n",
      "level=1\n",
      "step 1\n",
      "step 2\n",
      "step 3\n",
      "level=0\n",
      "step 1\n",
      "step 2\n",
      "done\n",
      "done with singular corrections\n",
      "mult7\n",
      "permutation\n",
      "boxes=120\n",
      "base size 2  6 12\n",
      "now go\n",
      "doing recursive at level2\n",
      "now proceeding iteratively1\n",
      "level=1\n",
      "step 1\n",
      "step 2\n",
      "step 3\n",
      "level=0\n",
      "step 1\n",
      "step 2\n",
      "done\n"
     ]
    },
    {
     "name": "stderr",
     "output_type": "stream",
     "text": [
      "bempp:HOST:TIMING: Finished Operation: Calling IFGF.: 10.460655450820923s\n",
      "bempp:HOST:TIMING: Start operation: Singular Corrections Evaluator\n",
      "bempp:HOST:TIMING: Finished Operation: Singular Corrections Evaluator: 0.004948616027832031s\n",
      "bempp:HOST:TIMING: Finished Operation: Evaluating ifgf.: 10.468060970306396s\n",
      "bempp:HOST:TIMING: Start operation: Evaluating ifgf.\n",
      "bempp:HOST:TIMING: Start operation: Calling IFGF.\n"
     ]
    },
    {
     "name": "stdout",
     "output_type": "stream",
     "text": [
      "starting singular correction\n",
      "done with singular corrections\n",
      "mult7\n",
      "permutation\n"
     ]
    },
    {
     "name": "stderr",
     "output_type": "stream",
     "text": [
      "bempp:HOST:TIMING: Finished Operation: Calling IFGF.: 10.689536809921265s\n",
      "bempp:HOST:TIMING: Start operation: Singular Corrections Evaluator\n",
      "bempp:HOST:TIMING: Finished Operation: Singular Corrections Evaluator: 0.0050678253173828125s\n",
      "bempp:HOST:TIMING: Finished Operation: Evaluating ifgf.: 10.697112321853638s\n",
      "bempp:HOST:TIMING: Start operation: Evaluating ifgf.\n",
      "bempp:HOST:TIMING: Start operation: Calling IFGF.\n",
      "bempp:HOST:TIMING: Finished Operation: Calling IFGF.: 6.609002351760864s\n"
     ]
    },
    {
     "name": "stdout",
     "output_type": "stream",
     "text": [
      "boxes=120\n",
      "base size 2  6 12\n",
      "now go\n",
      "doing recursive at level2\n",
      "now proceeding iteratively1\n",
      "level=1\n",
      "step 1\n",
      "step 2\n",
      "step 3\n",
      "level=0\n",
      "step 1\n",
      "step 2\n",
      "done\n",
      "starting singular correction\n",
      "done with singular corrections\n",
      "mult5\n",
      "permutation\n",
      "boxes=120\n",
      "base size 3  9 18\n",
      "now go\n",
      "doing recursive at level2\n",
      "now proceeding iteratively1\n",
      "level=1\n",
      "step 1\n",
      "step 2\n",
      "step 3\n",
      "level=0\n",
      "step 1\n",
      "step 2\n",
      "done\n"
     ]
    },
    {
     "name": "stderr",
     "output_type": "stream",
     "text": [
      "bempp:HOST:TIMING: Start operation: Singular Corrections Evaluator\n",
      "bempp:HOST:TIMING: Finished Operation: Singular Corrections Evaluator: 0.004887819290161133s\n",
      "bempp:HOST:TIMING: Finished Operation: Evaluating ifgf.: 6.6164045333862305s\n",
      "bempp:HOST:INFO: GMRES Iteration 8 with residual 0.009319154188748945\n",
      "bempp:HOST:TIMING: Start operation: Evaluating ifgf.\n",
      "bempp:HOST:TIMING: Start operation: Calling IFGF.\n"
     ]
    },
    {
     "name": "stdout",
     "output_type": "stream",
     "text": [
      "starting singular correction\n",
      "done with singular corrections\n",
      "mult7\n",
      "permutation\n",
      "boxes=120\n",
      "base size 2  6 12\n",
      "now go\n",
      "doing recursive at level2\n",
      "now proceeding iteratively1\n",
      "level=1\n",
      "step 1\n",
      "step 2\n",
      "step 3\n",
      "level=0\n",
      "step 1\n",
      "step 2\n",
      "done\n"
     ]
    },
    {
     "name": "stderr",
     "output_type": "stream",
     "text": [
      "bempp:HOST:TIMING: Finished Operation: Calling IFGF.: 11.608490467071533s\n",
      "bempp:HOST:TIMING: Start operation: Singular Corrections Evaluator\n",
      "bempp:HOST:TIMING: Finished Operation: Singular Corrections Evaluator: 0.005313873291015625s\n",
      "bempp:HOST:TIMING: Finished Operation: Evaluating ifgf.: 11.615864038467407s\n",
      "bempp:HOST:TIMING: Start operation: Evaluating ifgf.\n",
      "bempp:HOST:TIMING: Start operation: Calling IFGF.\n",
      "bempp:HOST:TIMING: Finished Operation: Calling IFGF.: 10.224019527435303s\n"
     ]
    },
    {
     "name": "stdout",
     "output_type": "stream",
     "text": [
      "starting singular correction\n",
      "done with singular corrections\n",
      "mult7\n",
      "permutation\n",
      "boxes=120\n",
      "base size 2  6 12\n",
      "now go\n",
      "doing recursive at level2\n",
      "now proceeding iteratively1\n",
      "level=1\n",
      "step 1\n",
      "step 2\n",
      "step 3\n",
      "level=0\n",
      "step 1\n",
      "step 2\n",
      "done\n"
     ]
    },
    {
     "name": "stderr",
     "output_type": "stream",
     "text": [
      "bempp:HOST:TIMING: Start operation: Singular Corrections Evaluator\n",
      "bempp:HOST:TIMING: Finished Operation: Singular Corrections Evaluator: 0.005015373229980469s\n",
      "bempp:HOST:TIMING: Finished Operation: Evaluating ifgf.: 10.231797933578491s\n",
      "bempp:HOST:TIMING: Start operation: Evaluating ifgf.\n",
      "bempp:HOST:TIMING: Start operation: Calling IFGF.\n"
     ]
    },
    {
     "name": "stdout",
     "output_type": "stream",
     "text": [
      "starting singular correction\n",
      "done with singular corrections\n",
      "mult7\n",
      "permutation\n"
     ]
    },
    {
     "name": "stderr",
     "output_type": "stream",
     "text": [
      "bempp:HOST:TIMING: Finished Operation: Calling IFGF.: 10.439924955368042s\n",
      "bempp:HOST:TIMING: Start operation: Singular Corrections Evaluator\n",
      "bempp:HOST:TIMING: Finished Operation: Singular Corrections Evaluator: 0.0050618648529052734s\n",
      "bempp:HOST:TIMING: Finished Operation: Evaluating ifgf.: 10.447164297103882s\n",
      "bempp:HOST:TIMING: Start operation: Evaluating ifgf.\n",
      "bempp:HOST:TIMING: Start operation: Calling IFGF.\n"
     ]
    },
    {
     "name": "stdout",
     "output_type": "stream",
     "text": [
      "boxes=120\n",
      "base size 2  6 12\n",
      "now go\n",
      "doing recursive at level2\n",
      "now proceeding iteratively1\n",
      "level=1\n",
      "step 1\n",
      "step 2\n",
      "step 3\n",
      "level=0\n",
      "step 1\n",
      "step 2\n",
      "done\n",
      "starting singular correction\n",
      "done with singular corrections\n",
      "mult5\n",
      "permutation\n",
      "boxes=120\n",
      "base size 3  9 18\n",
      "now go\n",
      "doing recursive at level2\n",
      "now proceeding iteratively1\n",
      "level=1\n",
      "step 1\n",
      "step 2\n",
      "step 3\n",
      "level=0\n",
      "step 1\n",
      "step 2\n",
      "done\n"
     ]
    },
    {
     "name": "stderr",
     "output_type": "stream",
     "text": [
      "bempp:HOST:TIMING: Finished Operation: Calling IFGF.: 6.847339868545532s\n",
      "bempp:HOST:TIMING: Start operation: Singular Corrections Evaluator\n",
      "bempp:HOST:TIMING: Finished Operation: Singular Corrections Evaluator: 0.004865884780883789s\n",
      "bempp:HOST:TIMING: Finished Operation: Evaluating ifgf.: 6.854147672653198s\n",
      "bempp:HOST:INFO: GMRES Iteration 9 with residual 0.0058562540593796\n",
      "bempp:HOST:TIMING: Start operation: Evaluating ifgf.\n",
      "bempp:HOST:TIMING: Start operation: Calling IFGF.\n"
     ]
    },
    {
     "name": "stdout",
     "output_type": "stream",
     "text": [
      "starting singular correction\n",
      "done with singular corrections\n"
     ]
    },
    {
     "name": "stderr",
     "output_type": "stream",
     "text": [
      "bempp:HOST:TIMING: Finished Operation: Calling IFGF.: 11.104422092437744s\n",
      "bempp:HOST:TIMING: Start operation: Singular Corrections Evaluator\n",
      "bempp:HOST:TIMING: Finished Operation: Singular Corrections Evaluator: 0.005007028579711914s\n",
      "bempp:HOST:TIMING: Finished Operation: Evaluating ifgf.: 11.111653089523315s\n",
      "bempp:HOST:TIMING: Start operation: Evaluating ifgf.\n",
      "bempp:HOST:TIMING: Start operation: Calling IFGF.\n"
     ]
    },
    {
     "name": "stdout",
     "output_type": "stream",
     "text": [
      "mult7\n",
      "permutation\n",
      "boxes=120\n",
      "base size 2  6 12\n",
      "now go\n",
      "doing recursive at level2\n",
      "now proceeding iteratively1\n",
      "level=1\n",
      "step 1\n",
      "step 2\n",
      "step 3\n",
      "level=0\n",
      "step 1\n",
      "step 2\n",
      "done\n",
      "starting singular correction\n",
      "done with singular corrections\n"
     ]
    },
    {
     "name": "stderr",
     "output_type": "stream",
     "text": [
      "bempp:HOST:TIMING: Finished Operation: Calling IFGF.: 10.4780855178833s\n",
      "bempp:HOST:TIMING: Start operation: Singular Corrections Evaluator\n",
      "bempp:HOST:TIMING: Finished Operation: Singular Corrections Evaluator: 0.0048770904541015625s\n",
      "bempp:HOST:TIMING: Finished Operation: Evaluating ifgf.: 10.485087633132935s\n",
      "bempp:HOST:TIMING: Start operation: Evaluating ifgf.\n",
      "bempp:HOST:TIMING: Start operation: Calling IFGF.\n",
      "bempp:HOST:TIMING: Finished Operation: Calling IFGF.: 10.47905421257019s\n"
     ]
    },
    {
     "name": "stdout",
     "output_type": "stream",
     "text": [
      "mult7\n",
      "permutation\n",
      "boxes=120\n",
      "base size 2  6 12\n",
      "now go\n",
      "doing recursive at level2\n",
      "now proceeding iteratively1\n",
      "level=1\n",
      "step 1\n",
      "step 2\n",
      "step 3\n",
      "level=0\n",
      "step 1\n",
      "step 2\n",
      "done\n",
      "starting singular correction\n",
      "done with singular corrections\n",
      "mult7\n",
      "permutation\n"
     ]
    },
    {
     "name": "stderr",
     "output_type": "stream",
     "text": [
      "bempp:HOST:TIMING: Start operation: Singular Corrections Evaluator\n",
      "bempp:HOST:TIMING: Finished Operation: Singular Corrections Evaluator: 0.0062999725341796875s\n",
      "bempp:HOST:TIMING: Finished Operation: Evaluating ifgf.: 10.487884759902954s\n",
      "bempp:HOST:TIMING: Start operation: Evaluating ifgf.\n",
      "bempp:HOST:TIMING: Start operation: Calling IFGF.\n"
     ]
    },
    {
     "name": "stdout",
     "output_type": "stream",
     "text": [
      "boxes=120\n",
      "base size 2  6 12\n",
      "now go\n",
      "doing recursive at level2\n",
      "now proceeding iteratively1\n",
      "level=1\n",
      "step 1\n",
      "step 2\n",
      "step 3\n",
      "level=0\n",
      "step 1\n",
      "step 2\n",
      "done\n",
      "starting singular correction\n",
      "done with singular corrections\n"
     ]
    },
    {
     "name": "stderr",
     "output_type": "stream",
     "text": [
      "bempp:HOST:TIMING: Finished Operation: Calling IFGF.: 6.851978063583374s\n",
      "bempp:HOST:TIMING: Start operation: Singular Corrections Evaluator\n",
      "bempp:HOST:TIMING: Finished Operation: Singular Corrections Evaluator: 0.004713296890258789s\n",
      "bempp:HOST:TIMING: Finished Operation: Evaluating ifgf.: 6.8588666915893555s\n",
      "bempp:HOST:INFO: GMRES Iteration 10 with residual 0.0037957230055379767\n",
      "bempp:HOST:TIMING: Start operation: Evaluating ifgf.\n",
      "bempp:HOST:TIMING: Start operation: Calling IFGF.\n"
     ]
    },
    {
     "name": "stdout",
     "output_type": "stream",
     "text": [
      "mult5\n",
      "permutation\n",
      "boxes=120\n",
      "base size 3  9 18\n",
      "now go\n",
      "doing recursive at level2\n",
      "now proceeding iteratively1\n",
      "level=1\n",
      "step 1\n",
      "step 2\n",
      "step 3\n",
      "level=0\n",
      "step 1\n",
      "step 2\n",
      "done\n",
      "starting singular correction\n",
      "done with singular corrections\n"
     ]
    },
    {
     "name": "stderr",
     "output_type": "stream",
     "text": [
      "bempp:HOST:TIMING: Finished Operation: Calling IFGF.: 10.264673709869385s\n",
      "bempp:HOST:TIMING: Start operation: Singular Corrections Evaluator\n",
      "bempp:HOST:TIMING: Finished Operation: Singular Corrections Evaluator: 0.005093812942504883s\n",
      "bempp:HOST:TIMING: Finished Operation: Evaluating ifgf.: 10.27208685874939s\n",
      "bempp:HOST:TIMING: Start operation: Evaluating ifgf.\n",
      "bempp:HOST:TIMING: Start operation: Calling IFGF.\n"
     ]
    },
    {
     "name": "stdout",
     "output_type": "stream",
     "text": [
      "mult7\n",
      "permutation\n",
      "boxes=120\n",
      "base size 2  6 12\n",
      "now go\n",
      "doing recursive at level2\n",
      "now proceeding iteratively1\n",
      "level=1\n",
      "step 1\n",
      "step 2\n",
      "step 3\n",
      "level=0\n",
      "step 1\n",
      "step 2\n",
      "done\n",
      "starting singular correction\n",
      "done with singular corrections\n",
      "mult7\n",
      "permutation\n",
      "boxes=120\n",
      "base size 2  6 12\n",
      "now go\n",
      "doing recursive at level2\n",
      "now proceeding iteratively1\n",
      "level=1\n",
      "step 1\n",
      "step 2\n",
      "step 3\n",
      "level=0\n",
      "step 1\n",
      "step 2\n",
      "done\n"
     ]
    },
    {
     "name": "stderr",
     "output_type": "stream",
     "text": [
      "bempp:HOST:TIMING: Finished Operation: Calling IFGF.: 10.530633211135864s\n",
      "bempp:HOST:TIMING: Start operation: Singular Corrections Evaluator\n",
      "bempp:HOST:TIMING: Finished Operation: Singular Corrections Evaluator: 0.0049550533294677734s\n",
      "bempp:HOST:TIMING: Finished Operation: Evaluating ifgf.: 10.53834080696106s\n",
      "bempp:HOST:TIMING: Start operation: Evaluating ifgf.\n",
      "bempp:HOST:TIMING: Start operation: Calling IFGF.\n"
     ]
    },
    {
     "name": "stdout",
     "output_type": "stream",
     "text": [
      "starting singular correction\n",
      "done with singular corrections\n",
      "mult7\n",
      "permutation\n"
     ]
    },
    {
     "name": "stderr",
     "output_type": "stream",
     "text": [
      "bempp:HOST:TIMING: Finished Operation: Calling IFGF.: 10.588465929031372s\n",
      "bempp:HOST:TIMING: Start operation: Singular Corrections Evaluator\n",
      "bempp:HOST:TIMING: Finished Operation: Singular Corrections Evaluator: 0.007359981536865234s\n",
      "bempp:HOST:TIMING: Finished Operation: Evaluating ifgf.: 10.598396062850952s\n",
      "bempp:HOST:TIMING: Start operation: Evaluating ifgf.\n",
      "bempp:HOST:TIMING: Start operation: Calling IFGF.\n"
     ]
    },
    {
     "name": "stdout",
     "output_type": "stream",
     "text": [
      "boxes=120\n",
      "base size 2  6 12\n",
      "now go\n",
      "doing recursive at level2\n",
      "now proceeding iteratively1\n",
      "level=1\n",
      "step 1\n",
      "step 2\n",
      "step 3\n",
      "level=0\n",
      "step 1\n",
      "step 2\n",
      "done\n",
      "starting singular correction\n",
      "done with singular corrections\n",
      "mult5\n",
      "permutation\n"
     ]
    },
    {
     "name": "stderr",
     "output_type": "stream",
     "text": [
      "bempp:HOST:TIMING: Finished Operation: Calling IFGF.: 7.434760093688965s\n",
      "bempp:HOST:TIMING: Start operation: Singular Corrections Evaluator\n",
      "bempp:HOST:TIMING: Finished Operation: Singular Corrections Evaluator: 0.0049245357513427734s\n",
      "bempp:HOST:TIMING: Finished Operation: Evaluating ifgf.: 7.442356109619141s\n",
      "bempp:HOST:INFO: GMRES Iteration 11 with residual 0.002426150750588864\n",
      "bempp:HOST:TIMING: Start operation: Evaluating ifgf.\n",
      "bempp:HOST:TIMING: Start operation: Calling IFGF.\n"
     ]
    },
    {
     "name": "stdout",
     "output_type": "stream",
     "text": [
      "boxes=120\n",
      "base size 3  9 18\n",
      "now go\n",
      "doing recursive at level2\n",
      "now proceeding iteratively1\n",
      "level=1\n",
      "step 1\n",
      "step 2\n",
      "step 3\n",
      "level=0\n",
      "step 1\n",
      "step 2\n",
      "done\n",
      "starting singular correction\n",
      "done with singular corrections\n",
      "mult7\n",
      "permutation\n"
     ]
    },
    {
     "name": "stderr",
     "output_type": "stream",
     "text": [
      "bempp:HOST:TIMING: Finished Operation: Calling IFGF.: 10.391348600387573s\n",
      "bempp:HOST:TIMING: Start operation: Singular Corrections Evaluator\n",
      "bempp:HOST:TIMING: Finished Operation: Singular Corrections Evaluator: 0.005424022674560547s\n",
      "bempp:HOST:TIMING: Finished Operation: Evaluating ifgf.: 10.399687767028809s\n",
      "bempp:HOST:TIMING: Start operation: Evaluating ifgf.\n",
      "bempp:HOST:TIMING: Start operation: Calling IFGF.\n"
     ]
    },
    {
     "name": "stdout",
     "output_type": "stream",
     "text": [
      "boxes=120\n",
      "base size 2  6 12\n",
      "now go\n",
      "doing recursive at level2\n",
      "now proceeding iteratively1\n",
      "level=1\n",
      "step 1\n",
      "step 2\n",
      "step 3\n",
      "level=0\n",
      "step 1\n",
      "step 2\n",
      "done\n",
      "starting singular correction\n",
      "done with singular corrections\n"
     ]
    },
    {
     "name": "stderr",
     "output_type": "stream",
     "text": [
      "bempp:HOST:TIMING: Finished Operation: Calling IFGF.: 10.440630435943604s\n",
      "bempp:HOST:TIMING: Start operation: Singular Corrections Evaluator\n",
      "bempp:HOST:TIMING: Finished Operation: Singular Corrections Evaluator: 0.0049664974212646484s\n",
      "bempp:HOST:TIMING: Finished Operation: Evaluating ifgf.: 10.448134899139404s\n",
      "bempp:HOST:TIMING: Start operation: Evaluating ifgf.\n",
      "bempp:HOST:TIMING: Start operation: Calling IFGF.\n"
     ]
    },
    {
     "name": "stdout",
     "output_type": "stream",
     "text": [
      "mult7\n",
      "permutation\n",
      "boxes=120\n",
      "base size 2  6 12\n",
      "now go\n",
      "doing recursive at level2\n",
      "now proceeding iteratively1\n",
      "level=1\n",
      "step 1\n",
      "step 2\n",
      "step 3\n",
      "level=0\n",
      "step 1\n",
      "step 2\n",
      "done\n",
      "starting singular correction\n",
      "done with singular corrections\n"
     ]
    },
    {
     "name": "stderr",
     "output_type": "stream",
     "text": [
      "bempp:HOST:TIMING: Finished Operation: Calling IFGF.: 10.572303056716919s\n",
      "bempp:HOST:TIMING: Start operation: Singular Corrections Evaluator\n",
      "bempp:HOST:TIMING: Finished Operation: Singular Corrections Evaluator: 0.0048329830169677734s\n",
      "bempp:HOST:TIMING: Finished Operation: Evaluating ifgf.: 10.579373121261597s\n",
      "bempp:HOST:TIMING: Start operation: Evaluating ifgf.\n",
      "bempp:HOST:TIMING: Start operation: Calling IFGF.\n"
     ]
    },
    {
     "name": "stdout",
     "output_type": "stream",
     "text": [
      "mult7\n",
      "permutation\n",
      "boxes=120\n",
      "base size 2  6 12\n",
      "now go\n",
      "doing recursive at level2\n",
      "now proceeding iteratively1\n",
      "level=1\n",
      "step 1\n",
      "step 2\n",
      "step 3\n",
      "level=0\n",
      "step 1\n",
      "step 2\n",
      "done\n",
      "starting singular correction\n",
      "done with singular corrections\n",
      "mult5\n",
      "permutation\n",
      "boxes=120\n",
      "base size 3  9 18\n",
      "now go\n",
      "doing recursive at level2\n",
      "now proceeding iteratively1\n",
      "level=1\n",
      "step 1\n",
      "step 2\n",
      "step 3\n",
      "level=0\n",
      "step 1\n",
      "step 2\n",
      "done\n"
     ]
    },
    {
     "name": "stderr",
     "output_type": "stream",
     "text": [
      "bempp:HOST:TIMING: Finished Operation: Calling IFGF.: 6.844825506210327s\n",
      "bempp:HOST:TIMING: Start operation: Singular Corrections Evaluator\n",
      "bempp:HOST:TIMING: Finished Operation: Singular Corrections Evaluator: 0.0049724578857421875s\n",
      "bempp:HOST:TIMING: Finished Operation: Evaluating ifgf.: 6.852078676223755s\n",
      "bempp:HOST:INFO: GMRES Iteration 12 with residual 0.001581990201951167\n",
      "bempp:HOST:TIMING: Start operation: Evaluating ifgf.\n",
      "bempp:HOST:TIMING: Start operation: Calling IFGF.\n"
     ]
    },
    {
     "name": "stdout",
     "output_type": "stream",
     "text": [
      "starting singular correction\n",
      "done with singular corrections\n",
      "mult7\n",
      "permutation\n",
      "boxes=120\n",
      "base size 2  6 12\n",
      "now go\n",
      "doing recursive at level2\n",
      "now proceeding iteratively1\n",
      "level=1\n",
      "step 1\n",
      "step 2\n",
      "step 3\n",
      "level=0\n",
      "step 1\n",
      "step 2\n",
      "done\n"
     ]
    },
    {
     "name": "stderr",
     "output_type": "stream",
     "text": [
      "bempp:HOST:TIMING: Finished Operation: Calling IFGF.: 11.707900285720825s\n",
      "bempp:HOST:TIMING: Start operation: Singular Corrections Evaluator\n",
      "bempp:HOST:TIMING: Finished Operation: Singular Corrections Evaluator: 0.005404472351074219s\n",
      "bempp:HOST:TIMING: Finished Operation: Evaluating ifgf.: 11.715729475021362s\n",
      "bempp:HOST:TIMING: Start operation: Evaluating ifgf.\n",
      "bempp:HOST:TIMING: Start operation: Calling IFGF.\n"
     ]
    },
    {
     "name": "stdout",
     "output_type": "stream",
     "text": [
      "starting singular correction\n",
      "done with singular corrections\n",
      "mult7\n",
      "permutation\n",
      "boxes=120\n",
      "base size 2  6 12\n",
      "now go\n",
      "doing recursive at level2\n",
      "now proceeding iteratively1\n",
      "level=1\n",
      "step 1\n",
      "step 2\n",
      "step 3\n",
      "level=0\n",
      "step 1\n",
      "step 2\n",
      "done\n"
     ]
    },
    {
     "name": "stderr",
     "output_type": "stream",
     "text": [
      "bempp:HOST:TIMING: Finished Operation: Calling IFGF.: 10.607332229614258s\n",
      "bempp:HOST:TIMING: Start operation: Singular Corrections Evaluator\n",
      "bempp:HOST:TIMING: Finished Operation: Singular Corrections Evaluator: 0.004719257354736328s\n",
      "bempp:HOST:TIMING: Finished Operation: Evaluating ifgf.: 10.61436128616333s\n",
      "bempp:HOST:TIMING: Start operation: Evaluating ifgf.\n",
      "bempp:HOST:TIMING: Start operation: Calling IFGF.\n",
      "bempp:HOST:TIMING: Finished Operation: Calling IFGF.: 10.612195491790771s\n"
     ]
    },
    {
     "name": "stdout",
     "output_type": "stream",
     "text": [
      "starting singular correction\n",
      "done with singular corrections\n",
      "mult7\n",
      "permutation\n",
      "boxes=120\n",
      "base size 2  6 12\n",
      "now go\n",
      "doing recursive at level2\n",
      "now proceeding iteratively1\n",
      "level=1\n",
      "step 1\n",
      "step 2\n",
      "step 3\n",
      "level=0\n",
      "step 1\n",
      "step 2\n",
      "done\n"
     ]
    },
    {
     "name": "stderr",
     "output_type": "stream",
     "text": [
      "bempp:HOST:TIMING: Start operation: Singular Corrections Evaluator\n",
      "bempp:HOST:TIMING: Finished Operation: Singular Corrections Evaluator: 0.004844188690185547s\n",
      "bempp:HOST:TIMING: Finished Operation: Evaluating ifgf.: 10.619751930236816s\n",
      "bempp:HOST:TIMING: Start operation: Evaluating ifgf.\n",
      "bempp:HOST:TIMING: Start operation: Calling IFGF.\n"
     ]
    },
    {
     "name": "stdout",
     "output_type": "stream",
     "text": [
      "starting singular correction\n",
      "done with singular corrections\n"
     ]
    },
    {
     "name": "stderr",
     "output_type": "stream",
     "text": [
      "bempp:HOST:TIMING: Finished Operation: Calling IFGF.: 6.978057622909546s\n",
      "bempp:HOST:TIMING: Start operation: Singular Corrections Evaluator\n",
      "bempp:HOST:TIMING: Finished Operation: Singular Corrections Evaluator: 0.005312204360961914s\n",
      "bempp:HOST:TIMING: Finished Operation: Evaluating ifgf.: 6.98577618598938s\n",
      "bempp:HOST:INFO: GMRES Iteration 13 with residual 0.0010354401915790281\n",
      "bempp:HOST:TIMING: Start operation: Evaluating ifgf.\n",
      "bempp:HOST:TIMING: Start operation: Calling IFGF.\n"
     ]
    },
    {
     "name": "stdout",
     "output_type": "stream",
     "text": [
      "mult5\n",
      "permutation\n",
      "boxes=120\n",
      "base size 3  9 18\n",
      "now go\n",
      "doing recursive at level2\n",
      "now proceeding iteratively1\n",
      "level=1\n",
      "step 1\n",
      "step 2\n",
      "step 3\n",
      "level=0\n",
      "step 1\n",
      "step 2\n",
      "done\n",
      "starting singular correction\n",
      "done with singular corrections\n"
     ]
    },
    {
     "name": "stderr",
     "output_type": "stream",
     "text": [
      "bempp:HOST:TIMING: Finished Operation: Calling IFGF.: 10.599274635314941s\n",
      "bempp:HOST:TIMING: Start operation: Singular Corrections Evaluator\n",
      "bempp:HOST:TIMING: Finished Operation: Singular Corrections Evaluator: 0.005469799041748047s\n",
      "bempp:HOST:TIMING: Finished Operation: Evaluating ifgf.: 10.607446193695068s\n",
      "bempp:HOST:TIMING: Start operation: Evaluating ifgf.\n",
      "bempp:HOST:TIMING: Start operation: Calling IFGF.\n"
     ]
    },
    {
     "name": "stdout",
     "output_type": "stream",
     "text": [
      "mult7\n",
      "permutation\n",
      "boxes=120\n",
      "base size 2  6 12\n",
      "now go\n",
      "doing recursive at level2\n",
      "now proceeding iteratively1\n",
      "level=1\n",
      "step 1\n",
      "step 2\n",
      "step 3\n",
      "level=0\n",
      "step 1\n",
      "step 2\n",
      "done\n",
      "starting singular correction\n",
      "done with singular corrections\n"
     ]
    },
    {
     "name": "stderr",
     "output_type": "stream",
     "text": [
      "bempp:HOST:TIMING: Finished Operation: Calling IFGF.: 11.109034538269043s\n",
      "bempp:HOST:TIMING: Start operation: Singular Corrections Evaluator\n",
      "bempp:HOST:TIMING: Finished Operation: Singular Corrections Evaluator: 0.004981040954589844s\n",
      "bempp:HOST:TIMING: Finished Operation: Evaluating ifgf.: 11.116473913192749s\n",
      "bempp:HOST:TIMING: Start operation: Evaluating ifgf.\n",
      "bempp:HOST:TIMING: Start operation: Calling IFGF.\n"
     ]
    },
    {
     "name": "stdout",
     "output_type": "stream",
     "text": [
      "mult7\n",
      "permutation\n",
      "boxes=120\n",
      "base size 2  6 12\n",
      "now go\n",
      "doing recursive at level2\n",
      "now proceeding iteratively1\n",
      "level=1\n",
      "step 1\n",
      "step 2\n",
      "step 3\n",
      "level=0\n",
      "step 1\n",
      "step 2\n",
      "done\n",
      "starting singular correction\n",
      "done with singular corrections\n"
     ]
    },
    {
     "name": "stderr",
     "output_type": "stream",
     "text": [
      "bempp:HOST:TIMING: Finished Operation: Calling IFGF.: 11.668892621994019s\n",
      "bempp:HOST:TIMING: Start operation: Singular Corrections Evaluator\n",
      "bempp:HOST:TIMING: Finished Operation: Singular Corrections Evaluator: 0.0060482025146484375s\n",
      "bempp:HOST:TIMING: Finished Operation: Evaluating ifgf.: 11.677414655685425s\n",
      "bempp:HOST:TIMING: Start operation: Evaluating ifgf.\n",
      "bempp:HOST:TIMING: Start operation: Calling IFGF.\n"
     ]
    },
    {
     "name": "stdout",
     "output_type": "stream",
     "text": [
      "mult7\n",
      "permutation\n",
      "boxes=120\n",
      "base size 2  6 12\n",
      "now go\n",
      "doing recursive at level2\n",
      "now proceeding iteratively1\n",
      "level=1\n",
      "step 1\n",
      "step 2\n",
      "step 3\n",
      "level=0\n",
      "step 1\n",
      "step 2\n",
      "done\n",
      "starting singular correction\n",
      "done with singular corrections\n"
     ]
    },
    {
     "name": "stderr",
     "output_type": "stream",
     "text": [
      "bempp:HOST:TIMING: Finished Operation: Calling IFGF.: 6.353204011917114s\n",
      "bempp:HOST:TIMING: Start operation: Singular Corrections Evaluator\n",
      "bempp:HOST:TIMING: Finished Operation: Singular Corrections Evaluator: 0.0048296451568603516s\n",
      "bempp:HOST:TIMING: Finished Operation: Evaluating ifgf.: 6.360315561294556s\n",
      "bempp:HOST:INFO: GMRES Iteration 14 with residual 0.0006659075419360523\n",
      "bempp:HOST:TIMING: Start operation: Evaluating ifgf.\n",
      "bempp:HOST:TIMING: Start operation: Calling IFGF.\n"
     ]
    },
    {
     "name": "stdout",
     "output_type": "stream",
     "text": [
      "mult5\n",
      "permutation\n",
      "boxes=120\n",
      "base size 3  9 18\n",
      "now go\n",
      "doing recursive at level2\n",
      "now proceeding iteratively1\n",
      "level=1\n",
      "step 1\n",
      "step 2\n",
      "step 3\n",
      "level=0\n",
      "step 1\n",
      "step 2\n",
      "done\n",
      "starting singular correction\n",
      "done with singular corrections\n"
     ]
    },
    {
     "name": "stderr",
     "output_type": "stream",
     "text": [
      "bempp:HOST:TIMING: Finished Operation: Calling IFGF.: 10.421162366867065s\n",
      "bempp:HOST:TIMING: Start operation: Singular Corrections Evaluator\n",
      "bempp:HOST:TIMING: Finished Operation: Singular Corrections Evaluator: 0.005301952362060547s\n",
      "bempp:HOST:TIMING: Finished Operation: Evaluating ifgf.: 10.42907190322876s\n",
      "bempp:HOST:TIMING: Start operation: Evaluating ifgf.\n",
      "bempp:HOST:TIMING: Start operation: Calling IFGF.\n"
     ]
    },
    {
     "name": "stdout",
     "output_type": "stream",
     "text": [
      "mult7\n",
      "permutation\n",
      "boxes=120\n",
      "base size 2  6 12\n",
      "now go\n",
      "doing recursive at level2\n",
      "now proceeding iteratively1\n",
      "level=1\n",
      "step 1\n",
      "step 2\n",
      "step 3\n",
      "level=0\n",
      "step 1\n",
      "step 2\n",
      "done\n",
      "starting singular correction\n",
      "done with singular corrections\n"
     ]
    },
    {
     "name": "stderr",
     "output_type": "stream",
     "text": [
      "bempp:HOST:TIMING: Finished Operation: Calling IFGF.: 10.543940305709839s\n",
      "bempp:HOST:TIMING: Start operation: Singular Corrections Evaluator\n",
      "bempp:HOST:TIMING: Finished Operation: Singular Corrections Evaluator: 0.005293846130371094s\n",
      "bempp:HOST:TIMING: Finished Operation: Evaluating ifgf.: 10.551619291305542s\n",
      "bempp:HOST:TIMING: Start operation: Evaluating ifgf.\n",
      "bempp:HOST:TIMING: Start operation: Calling IFGF.\n"
     ]
    },
    {
     "name": "stdout",
     "output_type": "stream",
     "text": [
      "mult7\n",
      "permutation\n",
      "boxes=120\n",
      "base size 2  6 12\n",
      "now go\n",
      "doing recursive at level2\n",
      "now proceeding iteratively1\n",
      "level=1\n",
      "step 1\n",
      "step 2\n",
      "step 3\n",
      "level=0\n",
      "step 1\n",
      "step 2\n",
      "done\n",
      "starting singular correction\n",
      "done with singular corrections\n"
     ]
    },
    {
     "name": "stderr",
     "output_type": "stream",
     "text": [
      "bempp:HOST:TIMING: Finished Operation: Calling IFGF.: 10.535985946655273s\n",
      "bempp:HOST:TIMING: Start operation: Singular Corrections Evaluator\n",
      "bempp:HOST:TIMING: Finished Operation: Singular Corrections Evaluator: 0.0050890445709228516s\n",
      "bempp:HOST:TIMING: Finished Operation: Evaluating ifgf.: 10.543387651443481s\n",
      "bempp:HOST:TIMING: Start operation: Evaluating ifgf.\n",
      "bempp:HOST:TIMING: Start operation: Calling IFGF.\n"
     ]
    },
    {
     "name": "stdout",
     "output_type": "stream",
     "text": [
      "mult7\n",
      "permutation\n",
      "boxes=120\n",
      "base size 2  6 12\n",
      "now go\n",
      "doing recursive at level2\n",
      "now proceeding iteratively1\n",
      "level=1\n",
      "step 1\n",
      "step 2\n",
      "step 3\n",
      "level=0\n",
      "step 1\n",
      "step 2\n",
      "done\n",
      "starting singular correction\n",
      "done with singular corrections\n"
     ]
    },
    {
     "name": "stderr",
     "output_type": "stream",
     "text": [
      "bempp:HOST:TIMING: Finished Operation: Calling IFGF.: 7.128655672073364s\n",
      "bempp:HOST:TIMING: Start operation: Singular Corrections Evaluator\n",
      "bempp:HOST:TIMING: Finished Operation: Singular Corrections Evaluator: 0.005082845687866211s\n",
      "bempp:HOST:TIMING: Finished Operation: Evaluating ifgf.: 7.136130094528198s\n",
      "bempp:HOST:INFO: GMRES Iteration 15 with residual 0.0004439070831284158\n",
      "bempp:HOST:TIMING: Start operation: Evaluating ifgf.\n",
      "bempp:HOST:TIMING: Start operation: Calling IFGF.\n"
     ]
    },
    {
     "name": "stdout",
     "output_type": "stream",
     "text": [
      "mult5\n",
      "permutation\n",
      "boxes=120\n",
      "base size 3  9 18\n",
      "now go\n",
      "doing recursive at level2\n",
      "now proceeding iteratively1\n",
      "level=1\n",
      "step 1\n",
      "step 2\n",
      "step 3\n",
      "level=0\n",
      "step 1\n",
      "step 2\n",
      "done\n",
      "starting singular correction\n",
      "done with singular corrections\n",
      "mult7\n",
      "permutation\n"
     ]
    },
    {
     "name": "stderr",
     "output_type": "stream",
     "text": [
      "bempp:HOST:TIMING: Finished Operation: Calling IFGF.: 9.996275424957275s\n",
      "bempp:HOST:TIMING: Start operation: Singular Corrections Evaluator\n",
      "bempp:HOST:TIMING: Finished Operation: Singular Corrections Evaluator: 0.0050907135009765625s\n",
      "bempp:HOST:TIMING: Finished Operation: Evaluating ifgf.: 10.003694534301758s\n",
      "bempp:HOST:TIMING: Start operation: Evaluating ifgf.\n",
      "bempp:HOST:TIMING: Start operation: Calling IFGF.\n"
     ]
    },
    {
     "name": "stdout",
     "output_type": "stream",
     "text": [
      "boxes=120\n",
      "base size 2  6 12\n",
      "now go\n",
      "doing recursive at level2\n",
      "now proceeding iteratively1\n",
      "level=1\n",
      "step 1\n",
      "step 2\n",
      "step 3\n",
      "level=0\n",
      "step 1\n",
      "step 2\n",
      "done\n",
      "starting singular correction\n",
      "done with singular corrections\n"
     ]
    },
    {
     "name": "stderr",
     "output_type": "stream",
     "text": [
      "bempp:HOST:TIMING: Finished Operation: Calling IFGF.: 10.448106288909912s\n",
      "bempp:HOST:TIMING: Start operation: Singular Corrections Evaluator\n",
      "bempp:HOST:TIMING: Finished Operation: Singular Corrections Evaluator: 0.004962444305419922s\n",
      "bempp:HOST:TIMING: Finished Operation: Evaluating ifgf.: 10.455411672592163s\n",
      "bempp:HOST:TIMING: Start operation: Evaluating ifgf.\n",
      "bempp:HOST:TIMING: Start operation: Calling IFGF.\n"
     ]
    },
    {
     "name": "stdout",
     "output_type": "stream",
     "text": [
      "mult7\n",
      "permutation\n",
      "boxes=120\n",
      "base size 2  6 12\n",
      "now go\n",
      "doing recursive at level2\n",
      "now proceeding iteratively1\n",
      "level=1\n",
      "step 1\n",
      "step 2\n",
      "step 3\n",
      "level=0\n",
      "step 1\n",
      "step 2\n",
      "done\n",
      "starting singular correction\n",
      "done with singular corrections\n",
      "mult7\n",
      "permutation\n",
      "boxes=120\n",
      "base size 2  6 12\n",
      "now go\n",
      "doing recursive at level2\n",
      "now proceeding iteratively1\n",
      "level=1\n",
      "step 1\n",
      "step 2\n",
      "step 3\n",
      "level=0\n",
      "step 1\n",
      "step 2\n",
      "done\n"
     ]
    },
    {
     "name": "stderr",
     "output_type": "stream",
     "text": [
      "bempp:HOST:TIMING: Finished Operation: Calling IFGF.: 10.409284114837646s\n",
      "bempp:HOST:TIMING: Start operation: Singular Corrections Evaluator\n",
      "bempp:HOST:TIMING: Finished Operation: Singular Corrections Evaluator: 0.005125999450683594s\n",
      "bempp:HOST:TIMING: Finished Operation: Evaluating ifgf.: 10.417053937911987s\n",
      "bempp:HOST:TIMING: Start operation: Evaluating ifgf.\n",
      "bempp:HOST:TIMING: Start operation: Calling IFGF.\n"
     ]
    },
    {
     "name": "stdout",
     "output_type": "stream",
     "text": [
      "starting singular correction\n",
      "done with singular corrections\n"
     ]
    },
    {
     "name": "stderr",
     "output_type": "stream",
     "text": [
      "bempp:HOST:TIMING: Finished Operation: Calling IFGF.: 6.675320148468018s\n",
      "bempp:HOST:TIMING: Start operation: Singular Corrections Evaluator\n",
      "bempp:HOST:TIMING: Finished Operation: Singular Corrections Evaluator: 0.004948616027832031s\n",
      "bempp:HOST:TIMING: Finished Operation: Evaluating ifgf.: 6.682389259338379s\n",
      "bempp:HOST:INFO: GMRES Iteration 16 with residual 0.00029807105930700555\n",
      "bempp:HOST:TIMING: Start operation: Evaluating ifgf.\n",
      "bempp:HOST:TIMING: Start operation: Calling IFGF.\n"
     ]
    },
    {
     "name": "stdout",
     "output_type": "stream",
     "text": [
      "mult5\n",
      "permutation\n",
      "boxes=120\n",
      "base size 3  9 18\n",
      "now go\n",
      "doing recursive at level2\n",
      "now proceeding iteratively1\n",
      "level=1\n",
      "step 1\n",
      "step 2\n",
      "step 3\n",
      "level=0\n",
      "step 1\n",
      "step 2\n",
      "done\n",
      "starting singular correction\n",
      "done with singular corrections\n"
     ]
    },
    {
     "name": "stderr",
     "output_type": "stream",
     "text": [
      "bempp:HOST:TIMING: Finished Operation: Calling IFGF.: 11.632938146591187s\n",
      "bempp:HOST:TIMING: Start operation: Singular Corrections Evaluator\n",
      "bempp:HOST:TIMING: Finished Operation: Singular Corrections Evaluator: 0.005287885665893555s\n",
      "bempp:HOST:TIMING: Finished Operation: Evaluating ifgf.: 11.640758275985718s\n",
      "bempp:HOST:TIMING: Start operation: Evaluating ifgf.\n",
      "bempp:HOST:TIMING: Start operation: Calling IFGF.\n"
     ]
    },
    {
     "name": "stdout",
     "output_type": "stream",
     "text": [
      "mult7\n",
      "permutation\n",
      "boxes=120\n",
      "base size 2  6 12\n",
      "now go\n",
      "doing recursive at level2\n",
      "now proceeding iteratively1\n",
      "level=1\n",
      "step 1\n",
      "step 2\n",
      "step 3\n",
      "level=0\n",
      "step 1\n",
      "step 2\n",
      "done\n",
      "starting singular correction\n",
      "done with singular corrections\n"
     ]
    },
    {
     "name": "stderr",
     "output_type": "stream",
     "text": [
      "bempp:HOST:TIMING: Finished Operation: Calling IFGF.: 10.267245292663574s\n",
      "bempp:HOST:TIMING: Start operation: Singular Corrections Evaluator\n",
      "bempp:HOST:TIMING: Finished Operation: Singular Corrections Evaluator: 0.0048618316650390625s\n",
      "bempp:HOST:TIMING: Finished Operation: Evaluating ifgf.: 10.274863004684448s\n",
      "bempp:HOST:TIMING: Start operation: Evaluating ifgf.\n",
      "bempp:HOST:TIMING: Start operation: Calling IFGF.\n"
     ]
    },
    {
     "name": "stdout",
     "output_type": "stream",
     "text": [
      "mult7\n",
      "permutation\n",
      "boxes=120\n",
      "base size 2  6 12\n",
      "now go\n",
      "doing recursive at level2\n",
      "now proceeding iteratively1\n",
      "level=1\n",
      "step 1\n",
      "step 2\n",
      "step 3\n",
      "level=0\n",
      "step 1\n",
      "step 2\n",
      "done\n",
      "starting singular correction\n",
      "done with singular corrections\n"
     ]
    },
    {
     "name": "stderr",
     "output_type": "stream",
     "text": [
      "bempp:HOST:TIMING: Finished Operation: Calling IFGF.: 11.615401029586792s\n",
      "bempp:HOST:TIMING: Start operation: Singular Corrections Evaluator\n",
      "bempp:HOST:TIMING: Finished Operation: Singular Corrections Evaluator: 0.0053217411041259766s\n",
      "bempp:HOST:TIMING: Finished Operation: Evaluating ifgf.: 11.623042106628418s\n",
      "bempp:HOST:TIMING: Start operation: Evaluating ifgf.\n",
      "bempp:HOST:TIMING: Start operation: Calling IFGF.\n"
     ]
    },
    {
     "name": "stdout",
     "output_type": "stream",
     "text": [
      "mult7\n",
      "permutation\n",
      "boxes=120\n",
      "base size 2  6 12\n",
      "now go\n",
      "doing recursive at level2\n",
      "now proceeding iteratively1\n",
      "level=1\n",
      "step 1\n",
      "step 2\n",
      "step 3\n",
      "level=0\n",
      "step 1\n",
      "step 2\n",
      "done\n",
      "starting singular correction\n",
      "done with singular corrections\n",
      "mult5\n",
      "permutation\n",
      "boxes=120\n",
      "base size 3  9 18\n",
      "now go\n",
      "doing recursive at level2\n",
      "now proceeding iteratively1\n",
      "level=1\n",
      "step 1\n",
      "step 2\n",
      "step 3\n",
      "level=0\n",
      "step 1\n",
      "step 2\n",
      "done\n"
     ]
    },
    {
     "name": "stderr",
     "output_type": "stream",
     "text": [
      "bempp:HOST:TIMING: Finished Operation: Calling IFGF.: 6.748598337173462s\n",
      "bempp:HOST:TIMING: Start operation: Singular Corrections Evaluator\n",
      "bempp:HOST:TIMING: Finished Operation: Singular Corrections Evaluator: 0.0050547122955322266s\n",
      "bempp:HOST:TIMING: Finished Operation: Evaluating ifgf.: 6.756021499633789s\n",
      "bempp:HOST:INFO: GMRES Iteration 17 with residual 0.00020083168272024202\n",
      "bempp:HOST:TIMING: Start operation: Evaluating ifgf.\n",
      "bempp:HOST:TIMING: Start operation: Calling IFGF.\n"
     ]
    },
    {
     "name": "stdout",
     "output_type": "stream",
     "text": [
      "starting singular correction\n",
      "done with singular corrections\n",
      "mult7\n",
      "permutation\n",
      "boxes=120\n",
      "base size 2  6 12\n",
      "now go\n",
      "doing recursive at level2\n",
      "now proceeding iteratively1\n",
      "level=1\n",
      "step 1\n",
      "step 2\n",
      "step 3\n",
      "level=0\n",
      "step 1\n",
      "step 2\n",
      "done\n"
     ]
    },
    {
     "name": "stderr",
     "output_type": "stream",
     "text": [
      "bempp:HOST:TIMING: Finished Operation: Calling IFGF.: 11.68013620376587s\n",
      "bempp:HOST:TIMING: Start operation: Singular Corrections Evaluator\n",
      "bempp:HOST:TIMING: Finished Operation: Singular Corrections Evaluator: 0.004763126373291016s\n",
      "bempp:HOST:TIMING: Finished Operation: Evaluating ifgf.: 11.68709921836853s\n",
      "bempp:HOST:TIMING: Start operation: Evaluating ifgf.\n",
      "bempp:HOST:TIMING: Start operation: Calling IFGF.\n",
      "bempp:HOST:TIMING: Finished Operation: Calling IFGF.: 10.546385049819946s\n"
     ]
    },
    {
     "name": "stdout",
     "output_type": "stream",
     "text": [
      "starting singular correction\n",
      "done with singular corrections\n",
      "mult7\n",
      "permutation\n",
      "boxes=120\n",
      "base size 2  6 12\n",
      "now go\n",
      "doing recursive at level2\n",
      "now proceeding iteratively1\n",
      "level=1\n",
      "step 1\n",
      "step 2\n",
      "step 3\n",
      "level=0\n",
      "step 1\n",
      "step 2\n",
      "done\n"
     ]
    },
    {
     "name": "stderr",
     "output_type": "stream",
     "text": [
      "bempp:HOST:TIMING: Start operation: Singular Corrections Evaluator\n",
      "bempp:HOST:TIMING: Finished Operation: Singular Corrections Evaluator: 0.005047321319580078s\n",
      "bempp:HOST:TIMING: Finished Operation: Evaluating ifgf.: 10.554167032241821s\n",
      "bempp:HOST:TIMING: Start operation: Evaluating ifgf.\n",
      "bempp:HOST:TIMING: Start operation: Calling IFGF.\n"
     ]
    },
    {
     "name": "stdout",
     "output_type": "stream",
     "text": [
      "starting singular correction\n",
      "done with singular corrections\n"
     ]
    },
    {
     "name": "stderr",
     "output_type": "stream",
     "text": [
      "bempp:HOST:TIMING: Finished Operation: Calling IFGF.: 10.816171884536743s\n",
      "bempp:HOST:TIMING: Start operation: Singular Corrections Evaluator\n",
      "bempp:HOST:TIMING: Finished Operation: Singular Corrections Evaluator: 0.00481104850769043s\n",
      "bempp:HOST:TIMING: Finished Operation: Evaluating ifgf.: 10.823523759841919s\n",
      "bempp:HOST:TIMING: Start operation: Evaluating ifgf.\n",
      "bempp:HOST:TIMING: Start operation: Calling IFGF.\n"
     ]
    },
    {
     "name": "stdout",
     "output_type": "stream",
     "text": [
      "mult7\n",
      "permutation\n",
      "boxes=120\n",
      "base size 2  6 12\n",
      "now go\n",
      "doing recursive at level2\n",
      "now proceeding iteratively1\n",
      "level=1\n",
      "step 1\n",
      "step 2\n",
      "step 3\n",
      "level=0\n",
      "step 1\n",
      "step 2\n",
      "done\n",
      "starting singular correction\n",
      "done with singular corrections\n"
     ]
    },
    {
     "name": "stderr",
     "output_type": "stream",
     "text": [
      "bempp:HOST:TIMING: Finished Operation: Calling IFGF.: 6.71834135055542s\n",
      "bempp:HOST:TIMING: Start operation: Singular Corrections Evaluator\n",
      "bempp:HOST:TIMING: Finished Operation: Singular Corrections Evaluator: 0.00506901741027832s\n",
      "bempp:HOST:TIMING: Finished Operation: Evaluating ifgf.: 6.7257890701293945s\n",
      "bempp:HOST:INFO: GMRES Iteration 18 with residual 0.00013501189862164564\n",
      "bempp:HOST:TIMING: Start operation: Evaluating ifgf.\n",
      "bempp:HOST:TIMING: Start operation: Calling IFGF.\n",
      "bempp:HOST:TIMING: Finished Operation: Calling IFGF.: 10.401719808578491s\n"
     ]
    },
    {
     "name": "stdout",
     "output_type": "stream",
     "text": [
      "mult5\n",
      "permutation\n",
      "boxes=120\n",
      "base size 3  9 18\n",
      "now go\n",
      "doing recursive at level2\n",
      "now proceeding iteratively1\n",
      "level=1\n",
      "step 1\n",
      "step 2\n",
      "step 3\n",
      "level=0\n",
      "step 1\n",
      "step 2\n",
      "done\n",
      "starting singular correction\n",
      "done with singular corrections\n",
      "mult7\n",
      "permutation\n"
     ]
    },
    {
     "name": "stderr",
     "output_type": "stream",
     "text": [
      "bempp:HOST:TIMING: Start operation: Singular Corrections Evaluator\n",
      "bempp:HOST:TIMING: Finished Operation: Singular Corrections Evaluator: 0.0053920745849609375s\n",
      "bempp:HOST:TIMING: Finished Operation: Evaluating ifgf.: 10.410244941711426s\n",
      "bempp:HOST:TIMING: Start operation: Evaluating ifgf.\n",
      "bempp:HOST:TIMING: Start operation: Calling IFGF.\n",
      "bempp:HOST:TIMING: Finished Operation: Calling IFGF.: 10.502282857894897s\n"
     ]
    },
    {
     "name": "stdout",
     "output_type": "stream",
     "text": [
      "boxes=120\n",
      "base size 2  6 12\n",
      "now go\n",
      "doing recursive at level2\n",
      "now proceeding iteratively1\n",
      "level=1\n",
      "step 1\n",
      "step 2\n",
      "step 3\n",
      "level=0\n",
      "step 1\n",
      "step 2\n",
      "done\n",
      "starting singular correction\n",
      "done with singular corrections\n",
      "mult7\n",
      "permutation\n",
      "boxes=120\n",
      "base size 2  6 12\n",
      "now go\n",
      "doing recursive at level2\n",
      "now proceeding iteratively1\n",
      "level=1\n",
      "step 1\n",
      "step 2\n",
      "step 3\n",
      "level=0\n",
      "step 1\n",
      "step 2\n",
      "done\n"
     ]
    },
    {
     "name": "stderr",
     "output_type": "stream",
     "text": [
      "bempp:HOST:TIMING: Start operation: Singular Corrections Evaluator\n",
      "bempp:HOST:TIMING: Finished Operation: Singular Corrections Evaluator: 0.004915952682495117s\n",
      "bempp:HOST:TIMING: Finished Operation: Evaluating ifgf.: 10.51020884513855s\n",
      "bempp:HOST:TIMING: Start operation: Evaluating ifgf.\n",
      "bempp:HOST:TIMING: Start operation: Calling IFGF.\n"
     ]
    },
    {
     "name": "stdout",
     "output_type": "stream",
     "text": [
      "starting singular correction\n",
      "done with singular corrections\n"
     ]
    },
    {
     "name": "stderr",
     "output_type": "stream",
     "text": [
      "bempp:HOST:TIMING: Finished Operation: Calling IFGF.: 10.594357252120972s\n",
      "bempp:HOST:TIMING: Start operation: Singular Corrections Evaluator\n",
      "bempp:HOST:TIMING: Finished Operation: Singular Corrections Evaluator: 0.004800319671630859s\n",
      "bempp:HOST:TIMING: Finished Operation: Evaluating ifgf.: 10.60150408744812s\n",
      "bempp:HOST:TIMING: Start operation: Evaluating ifgf.\n",
      "bempp:HOST:TIMING: Start operation: Calling IFGF.\n"
     ]
    },
    {
     "name": "stdout",
     "output_type": "stream",
     "text": [
      "mult7\n",
      "permutation\n",
      "boxes=120\n",
      "base size 2  6 12\n",
      "now go\n",
      "doing recursive at level2\n",
      "now proceeding iteratively1\n",
      "level=1\n",
      "step 1\n",
      "step 2\n",
      "step 3\n",
      "level=0\n",
      "step 1\n",
      "step 2\n",
      "done\n",
      "starting singular correction\n",
      "done with singular corrections\n",
      "mult5\n",
      "permutation\n"
     ]
    },
    {
     "name": "stderr",
     "output_type": "stream",
     "text": [
      "bempp:HOST:TIMING: Finished Operation: Calling IFGF.: 6.60566782951355s\n",
      "bempp:HOST:TIMING: Start operation: Singular Corrections Evaluator\n",
      "bempp:HOST:TIMING: Finished Operation: Singular Corrections Evaluator: 0.0053195953369140625s\n",
      "bempp:HOST:TIMING: Finished Operation: Evaluating ifgf.: 6.61337685585022s\n",
      "bempp:HOST:INFO: GMRES Iteration 19 with residual 9.313260733568413e-05\n",
      "bempp:HOST:TIMING: Start operation: Evaluating ifgf.\n",
      "bempp:HOST:TIMING: Start operation: Calling IFGF.\n"
     ]
    },
    {
     "name": "stdout",
     "output_type": "stream",
     "text": [
      "boxes=120\n",
      "base size 3  9 18\n",
      "now go\n",
      "doing recursive at level2\n",
      "now proceeding iteratively1\n",
      "level=1\n",
      "step 1\n",
      "step 2\n",
      "step 3\n",
      "level=0\n",
      "step 1\n",
      "step 2\n",
      "done\n",
      "starting singular correction\n",
      "done with singular corrections\n"
     ]
    },
    {
     "name": "stderr",
     "output_type": "stream",
     "text": [
      "bempp:HOST:TIMING: Finished Operation: Calling IFGF.: 10.387326717376709s\n",
      "bempp:HOST:TIMING: Start operation: Singular Corrections Evaluator\n",
      "bempp:HOST:TIMING: Finished Operation: Singular Corrections Evaluator: 0.005017757415771484s\n",
      "bempp:HOST:TIMING: Finished Operation: Evaluating ifgf.: 10.394940376281738s\n",
      "bempp:HOST:TIMING: Start operation: Evaluating ifgf.\n",
      "bempp:HOST:TIMING: Start operation: Calling IFGF.\n"
     ]
    },
    {
     "name": "stdout",
     "output_type": "stream",
     "text": [
      "mult7\n",
      "permutation\n",
      "starting singular correction\n",
      "boxes=120\n",
      "base size 2  6 12\n",
      "now go\n",
      "doing recursive at level2\n",
      "now proceeding iteratively1\n",
      "level=1\n",
      "step 1\n",
      "step 2\n",
      "step 3\n",
      "level=0\n",
      "step 1\n",
      "step 2\n",
      "done\n",
      "done with singular corrections\n"
     ]
    },
    {
     "name": "stderr",
     "output_type": "stream",
     "text": [
      "bempp:HOST:TIMING: Finished Operation: Calling IFGF.: 10.425620794296265s\n",
      "bempp:HOST:TIMING: Start operation: Singular Corrections Evaluator\n",
      "bempp:HOST:TIMING: Finished Operation: Singular Corrections Evaluator: 0.004825592041015625s\n",
      "bempp:HOST:TIMING: Finished Operation: Evaluating ifgf.: 10.432873487472534s\n",
      "bempp:HOST:TIMING: Start operation: Evaluating ifgf.\n",
      "bempp:HOST:TIMING: Start operation: Calling IFGF.\n"
     ]
    },
    {
     "name": "stdout",
     "output_type": "stream",
     "text": [
      "mult7\n",
      "permutation\n",
      "boxes=120\n",
      "base size 2  6 12\n",
      "now go\n",
      "doing recursive at level2\n",
      "now proceeding iteratively1\n",
      "level=1\n",
      "step 1\n",
      "step 2\n",
      "step 3\n",
      "level=0\n",
      "step 1\n",
      "step 2\n",
      "done\n",
      "starting singular correction\n",
      "done with singular corrections\n",
      "mult7\n",
      "permutation\n",
      "boxes=120\n",
      "base size 2  6 12\n",
      "now go\n",
      "doing recursive at level2\n",
      "now proceeding iteratively1\n",
      "level=1\n",
      "step 1\n",
      "step 2\n",
      "step 3\n",
      "level=0\n",
      "step 1\n",
      "step 2\n",
      "done\n"
     ]
    },
    {
     "name": "stderr",
     "output_type": "stream",
     "text": [
      "bempp:HOST:TIMING: Finished Operation: Calling IFGF.: 10.295673608779907s\n",
      "bempp:HOST:TIMING: Start operation: Singular Corrections Evaluator\n",
      "bempp:HOST:TIMING: Finished Operation: Singular Corrections Evaluator: 0.005110502243041992s\n",
      "bempp:HOST:TIMING: Finished Operation: Evaluating ifgf.: 10.303695440292358s\n",
      "bempp:HOST:TIMING: Start operation: Evaluating ifgf.\n",
      "bempp:HOST:TIMING: Start operation: Calling IFGF.\n"
     ]
    },
    {
     "name": "stdout",
     "output_type": "stream",
     "text": [
      "starting singular correction\n",
      "done with singular corrections\n"
     ]
    },
    {
     "name": "stderr",
     "output_type": "stream",
     "text": [
      "bempp:HOST:TIMING: Finished Operation: Calling IFGF.: 7.635364294052124s\n",
      "bempp:HOST:TIMING: Start operation: Singular Corrections Evaluator\n",
      "bempp:HOST:TIMING: Finished Operation: Singular Corrections Evaluator: 0.0050373077392578125s\n",
      "bempp:HOST:TIMING: Finished Operation: Evaluating ifgf.: 7.642867565155029s\n",
      "bempp:HOST:TIMING: Start operation: Evaluating ifgf.\n",
      "bempp:HOST:TIMING: Start operation: Calling IFGF.\n"
     ]
    },
    {
     "name": "stdout",
     "output_type": "stream",
     "text": [
      "mult5\n",
      "permutation\n",
      "boxes=120\n",
      "base size 3  9 18\n",
      "now go\n",
      "doing recursive at level2\n",
      "now proceeding iteratively1\n",
      "level=1\n",
      "step 1\n",
      "step 2\n",
      "step 3\n",
      "level=0\n",
      "step 1\n",
      "step 2\n",
      "done\n",
      "starting singular correction\n",
      "done with singular corrections\n",
      "mult7\n",
      "permutation\n"
     ]
    },
    {
     "name": "stderr",
     "output_type": "stream",
     "text": [
      "bempp:HOST:TIMING: Finished Operation: Calling IFGF.: 10.824223756790161s\n",
      "bempp:HOST:TIMING: Start operation: Singular Corrections Evaluator\n",
      "bempp:HOST:TIMING: Finished Operation: Singular Corrections Evaluator: 0.004994869232177734s\n",
      "bempp:HOST:TIMING: Finished Operation: Evaluating ifgf.: 10.831975936889648s\n",
      "bempp:HOST:TIMING: Start operation: Evaluating ifgf.\n",
      "bempp:HOST:TIMING: Start operation: Calling IFGF.\n",
      "bempp:HOST:TIMING: Finished Operation: Calling IFGF.: 10.322134017944336s\n"
     ]
    },
    {
     "name": "stdout",
     "output_type": "stream",
     "text": [
      "boxes=120\n",
      "base size 2  6 12\n",
      "now go\n",
      "doing recursive at level2\n",
      "now proceeding iteratively1\n",
      "level=1\n",
      "step 1\n",
      "step 2\n",
      "step 3\n",
      "level=0\n",
      "step 1\n",
      "step 2\n",
      "done\n",
      "starting singular correction\n",
      "done with singular corrections\n",
      "mult7\n",
      "permutation\n",
      "boxes=120\n",
      "base size 2  6 12\n",
      "now go\n",
      "doing recursive at level2\n",
      "now proceeding iteratively1\n",
      "level=1\n",
      "step 1\n",
      "step 2\n",
      "step 3\n",
      "level=0\n",
      "step 1\n",
      "step 2\n",
      "done\n"
     ]
    },
    {
     "name": "stderr",
     "output_type": "stream",
     "text": [
      "bempp:HOST:TIMING: Start operation: Singular Corrections Evaluator\n",
      "bempp:HOST:TIMING: Finished Operation: Singular Corrections Evaluator: 0.004830598831176758s\n",
      "bempp:HOST:TIMING: Finished Operation: Evaluating ifgf.: 10.329630851745605s\n",
      "bempp:HOST:TIMING: Start operation: Evaluating ifgf.\n",
      "bempp:HOST:TIMING: Start operation: Calling IFGF.\n"
     ]
    },
    {
     "name": "stdout",
     "output_type": "stream",
     "text": [
      "starting singular correction\n",
      "done with singular corrections\n",
      "mult7\n",
      "permutation\n"
     ]
    },
    {
     "name": "stderr",
     "output_type": "stream",
     "text": [
      "bempp:HOST:TIMING: Finished Operation: Calling IFGF.: 10.644511222839355s\n",
      "bempp:HOST:TIMING: Start operation: Singular Corrections Evaluator\n",
      "bempp:HOST:TIMING: Finished Operation: Singular Corrections Evaluator: 0.004984855651855469s\n",
      "bempp:HOST:TIMING: Finished Operation: Evaluating ifgf.: 10.652676343917847s\n",
      "bempp:HOST:TIMING: Start operation: Evaluating ifgf.\n",
      "bempp:HOST:TIMING: Start operation: Calling IFGF.\n"
     ]
    },
    {
     "name": "stdout",
     "output_type": "stream",
     "text": [
      "boxes=120\n",
      "base size 2  6 12\n",
      "now go\n",
      "doing recursive at level2\n",
      "now proceeding iteratively1\n",
      "level=1\n",
      "step 1\n",
      "step 2\n",
      "step 3\n",
      "level=0\n",
      "step 1\n",
      "step 2\n",
      "done\n",
      "starting singular correction\n",
      "done with singular corrections\n",
      "mult5\n",
      "permutation\n"
     ]
    },
    {
     "name": "stderr",
     "output_type": "stream",
     "text": [
      "bempp:HOST:TIMING: Finished Operation: Calling IFGF.: 6.559686899185181s\n",
      "bempp:HOST:TIMING: Start operation: Singular Corrections Evaluator\n",
      "bempp:HOST:TIMING: Finished Operation: Singular Corrections Evaluator: 0.00491023063659668s\n",
      "bempp:HOST:TIMING: Finished Operation: Evaluating ifgf.: 6.567030191421509s\n",
      "bempp:HOST:INFO: GMRES Iteration 20 with residual 6.449891454718892e-05\n",
      "bempp:HOST:TIMING: Start operation: Evaluating ifgf.\n",
      "bempp:HOST:TIMING: Start operation: Calling IFGF.\n"
     ]
    },
    {
     "name": "stdout",
     "output_type": "stream",
     "text": [
      "boxes=120\n",
      "base size 3  9 18\n",
      "now go\n",
      "doing recursive at level2\n",
      "now proceeding iteratively1\n",
      "level=1\n",
      "step 1\n",
      "step 2\n",
      "step 3\n",
      "level=0\n",
      "step 1\n",
      "step 2\n",
      "done\n",
      "starting singular correction\n",
      "done with singular corrections\n"
     ]
    },
    {
     "name": "stderr",
     "output_type": "stream",
     "text": [
      "bempp:HOST:TIMING: Finished Operation: Calling IFGF.: 10.376476526260376s\n",
      "bempp:HOST:TIMING: Start operation: Singular Corrections Evaluator\n",
      "bempp:HOST:TIMING: Finished Operation: Singular Corrections Evaluator: 0.005602836608886719s\n",
      "bempp:HOST:TIMING: Finished Operation: Evaluating ifgf.: 10.384681940078735s\n",
      "bempp:HOST:TIMING: Start operation: Evaluating ifgf.\n",
      "bempp:HOST:TIMING: Start operation: Calling IFGF.\n"
     ]
    },
    {
     "name": "stdout",
     "output_type": "stream",
     "text": [
      "mult7\n",
      "permutation\n",
      "boxes=120\n",
      "base size 2  6 12\n",
      "now go\n",
      "doing recursive at level2\n",
      "now proceeding iteratively1\n",
      "level=1\n",
      "step 1\n",
      "step 2\n",
      "step 3\n",
      "level=0\n",
      "step 1\n",
      "step 2\n",
      "done\n",
      "starting singular correction\n",
      "done with singular corrections\n",
      "mult7\n",
      "permutation\n"
     ]
    },
    {
     "name": "stderr",
     "output_type": "stream",
     "text": [
      "bempp:HOST:TIMING: Finished Operation: Calling IFGF.: 10.411690950393677s\n",
      "bempp:HOST:TIMING: Start operation: Singular Corrections Evaluator\n",
      "bempp:HOST:TIMING: Finished Operation: Singular Corrections Evaluator: 0.0048558712005615234s\n",
      "bempp:HOST:TIMING: Finished Operation: Evaluating ifgf.: 10.419103860855103s\n",
      "bempp:HOST:TIMING: Start operation: Evaluating ifgf.\n",
      "bempp:HOST:TIMING: Start operation: Calling IFGF.\n"
     ]
    },
    {
     "name": "stdout",
     "output_type": "stream",
     "text": [
      "boxes=120\n",
      "base size 2  6 12\n",
      "now go\n",
      "doing recursive at level2\n",
      "now proceeding iteratively1\n",
      "level=1\n",
      "step 1\n",
      "step 2\n",
      "step 3\n",
      "level=0\n",
      "step 1\n",
      "step 2\n",
      "done\n",
      "starting singular correction\n",
      "done with singular corrections\n",
      "mult7\n",
      "permutation\n"
     ]
    },
    {
     "name": "stderr",
     "output_type": "stream",
     "text": [
      "bempp:HOST:TIMING: Finished Operation: Calling IFGF.: 10.251943588256836s\n",
      "bempp:HOST:TIMING: Start operation: Singular Corrections Evaluator\n",
      "bempp:HOST:TIMING: Finished Operation: Singular Corrections Evaluator: 0.0049326419830322266s\n",
      "bempp:HOST:TIMING: Finished Operation: Evaluating ifgf.: 10.259237051010132s\n",
      "bempp:HOST:TIMING: Start operation: Evaluating ifgf.\n",
      "bempp:HOST:TIMING: Start operation: Calling IFGF.\n"
     ]
    },
    {
     "name": "stdout",
     "output_type": "stream",
     "text": [
      "boxes=120\n",
      "base size 2  6 12\n",
      "now go\n",
      "doing recursive at level2\n",
      "now proceeding iteratively1\n",
      "level=1\n",
      "step 1\n",
      "step 2\n",
      "step 3\n",
      "level=0\n",
      "step 1\n",
      "step 2\n",
      "done\n",
      "starting singular correction\n",
      "done with singular corrections\n",
      "mult5\n",
      "permutation\n"
     ]
    },
    {
     "name": "stderr",
     "output_type": "stream",
     "text": [
      "bempp:HOST:TIMING: Finished Operation: Calling IFGF.: 6.524668216705322s\n",
      "bempp:HOST:TIMING: Start operation: Singular Corrections Evaluator\n",
      "bempp:HOST:TIMING: Finished Operation: Singular Corrections Evaluator: 0.00513005256652832s\n",
      "bempp:HOST:TIMING: Finished Operation: Evaluating ifgf.: 6.531905174255371s\n",
      "bempp:HOST:INFO: GMRES Iteration 21 with residual 4.6986965119094215e-05\n",
      "bempp:HOST:TIMING: Start operation: Evaluating ifgf.\n",
      "bempp:HOST:TIMING: Start operation: Calling IFGF.\n"
     ]
    },
    {
     "name": "stdout",
     "output_type": "stream",
     "text": [
      "boxes=120\n",
      "base size 3  9 18\n",
      "now go\n",
      "doing recursive at level2\n",
      "now proceeding iteratively1\n",
      "level=1\n",
      "step 1\n",
      "step 2\n",
      "step 3\n",
      "level=0\n",
      "step 1\n",
      "step 2\n",
      "done\n",
      "starting singular correction\n",
      "done with singular corrections\n"
     ]
    },
    {
     "name": "stderr",
     "output_type": "stream",
     "text": [
      "bempp:HOST:TIMING: Finished Operation: Calling IFGF.: 10.584900140762329s\n",
      "bempp:HOST:TIMING: Start operation: Singular Corrections Evaluator\n",
      "bempp:HOST:TIMING: Finished Operation: Singular Corrections Evaluator: 0.004958152770996094s\n",
      "bempp:HOST:TIMING: Finished Operation: Evaluating ifgf.: 10.592221975326538s\n",
      "bempp:HOST:TIMING: Start operation: Evaluating ifgf.\n",
      "bempp:HOST:TIMING: Start operation: Calling IFGF.\n"
     ]
    },
    {
     "name": "stdout",
     "output_type": "stream",
     "text": [
      "mult7\n",
      "permutation\n",
      "boxes=120\n",
      "base size 2  6 12\n",
      "now go\n",
      "doing recursive at level2\n",
      "now proceeding iteratively1\n",
      "level=1\n",
      "step 1\n",
      "step 2\n",
      "step 3\n",
      "level=0\n",
      "step 1\n",
      "step 2\n",
      "done\n",
      "starting singular correction\n",
      "done with singular corrections\n",
      "mult7\n",
      "permutation\n"
     ]
    },
    {
     "name": "stderr",
     "output_type": "stream",
     "text": [
      "bempp:HOST:TIMING: Finished Operation: Calling IFGF.: 10.359474420547485s\n",
      "bempp:HOST:TIMING: Start operation: Singular Corrections Evaluator\n",
      "bempp:HOST:TIMING: Finished Operation: Singular Corrections Evaluator: 0.0048732757568359375s\n",
      "bempp:HOST:TIMING: Finished Operation: Evaluating ifgf.: 10.366747617721558s\n",
      "bempp:HOST:TIMING: Start operation: Evaluating ifgf.\n",
      "bempp:HOST:TIMING: Start operation: Calling IFGF.\n"
     ]
    },
    {
     "name": "stdout",
     "output_type": "stream",
     "text": [
      "boxes=120\n",
      "base size 2  6 12\n",
      "now go\n",
      "doing recursive at level2\n",
      "now proceeding iteratively1\n",
      "level=1\n",
      "step 1\n",
      "step 2\n",
      "step 3\n",
      "level=0\n",
      "step 1\n",
      "step 2\n",
      "done\n",
      "starting singular correction\n",
      "done with singular corrections\n"
     ]
    },
    {
     "name": "stderr",
     "output_type": "stream",
     "text": [
      "bempp:HOST:TIMING: Finished Operation: Calling IFGF.: 10.528142929077148s\n",
      "bempp:HOST:TIMING: Start operation: Singular Corrections Evaluator\n",
      "bempp:HOST:TIMING: Finished Operation: Singular Corrections Evaluator: 0.004846096038818359s\n",
      "bempp:HOST:TIMING: Finished Operation: Evaluating ifgf.: 10.53555965423584s\n",
      "bempp:HOST:TIMING: Start operation: Evaluating ifgf.\n",
      "bempp:HOST:TIMING: Start operation: Calling IFGF.\n"
     ]
    },
    {
     "name": "stdout",
     "output_type": "stream",
     "text": [
      "mult7\n",
      "permutation\n",
      "boxes=120\n",
      "base size 2  6 12\n",
      "now go\n",
      "doing recursive at level2\n",
      "now proceeding iteratively1\n",
      "level=1\n",
      "step 1\n",
      "step 2\n",
      "step 3\n",
      "level=0\n",
      "step 1\n",
      "step 2\n",
      "done\n",
      "starting singular correction\n",
      "done with singular corrections\n",
      "mult5\n",
      "permutation\n"
     ]
    },
    {
     "name": "stderr",
     "output_type": "stream",
     "text": [
      "bempp:HOST:TIMING: Finished Operation: Calling IFGF.: 6.675178050994873s\n",
      "bempp:HOST:TIMING: Start operation: Singular Corrections Evaluator\n",
      "bempp:HOST:TIMING: Finished Operation: Singular Corrections Evaluator: 0.0049250125885009766s\n",
      "bempp:HOST:TIMING: Finished Operation: Evaluating ifgf.: 6.682905197143555s\n",
      "bempp:HOST:INFO: GMRES Iteration 22 with residual 3.5535430391753816e-05\n",
      "bempp:HOST:TIMING: Start operation: Evaluating ifgf.\n",
      "bempp:HOST:TIMING: Start operation: Calling IFGF.\n"
     ]
    },
    {
     "name": "stdout",
     "output_type": "stream",
     "text": [
      "boxes=120\n",
      "base size 3  9 18\n",
      "now go\n",
      "doing recursive at level2\n",
      "now proceeding iteratively1\n",
      "level=1\n",
      "step 1\n",
      "step 2\n",
      "step 3\n",
      "level=0\n",
      "step 1\n",
      "step 2\n",
      "done\n",
      "starting singular correction\n",
      "done with singular corrections\n"
     ]
    },
    {
     "name": "stderr",
     "output_type": "stream",
     "text": [
      "bempp:HOST:TIMING: Finished Operation: Calling IFGF.: 10.495989799499512s\n",
      "bempp:HOST:TIMING: Start operation: Singular Corrections Evaluator\n",
      "bempp:HOST:TIMING: Finished Operation: Singular Corrections Evaluator: 0.004848957061767578s\n",
      "bempp:HOST:TIMING: Finished Operation: Evaluating ifgf.: 10.5036780834198s\n",
      "bempp:HOST:TIMING: Start operation: Evaluating ifgf.\n",
      "bempp:HOST:TIMING: Start operation: Calling IFGF.\n"
     ]
    },
    {
     "name": "stdout",
     "output_type": "stream",
     "text": [
      "mult7\n",
      "permutation\n",
      "boxes=120\n",
      "base size 2  6 12\n",
      "now go\n",
      "doing recursive at level2\n",
      "now proceeding iteratively1\n",
      "level=1\n",
      "step 1\n",
      "step 2\n",
      "step 3\n",
      "level=0\n",
      "step 1\n",
      "step 2\n",
      "done\n",
      "starting singular correction\n",
      "done with singular corrections\n"
     ]
    },
    {
     "name": "stderr",
     "output_type": "stream",
     "text": [
      "bempp:HOST:TIMING: Finished Operation: Calling IFGF.: 10.353637456893921s\n",
      "bempp:HOST:TIMING: Start operation: Singular Corrections Evaluator\n",
      "bempp:HOST:TIMING: Finished Operation: Singular Corrections Evaluator: 0.004872798919677734s\n",
      "bempp:HOST:TIMING: Finished Operation: Evaluating ifgf.: 10.360981225967407s\n",
      "bempp:HOST:TIMING: Start operation: Evaluating ifgf.\n",
      "bempp:HOST:TIMING: Start operation: Calling IFGF.\n"
     ]
    },
    {
     "name": "stdout",
     "output_type": "stream",
     "text": [
      "mult7\n",
      "permutation\n",
      "boxes=120\n",
      "base size 2  6 12\n",
      "now go\n",
      "doing recursive at level2\n",
      "now proceeding iteratively1\n",
      "level=1\n",
      "step 1\n",
      "step 2\n",
      "step 3\n",
      "level=0\n",
      "step 1\n",
      "step 2\n",
      "done\n",
      "starting singular correction\n",
      "done with singular corrections\n",
      "mult7\n",
      "permutation\n"
     ]
    },
    {
     "name": "stderr",
     "output_type": "stream",
     "text": [
      "bempp:HOST:TIMING: Finished Operation: Calling IFGF.: 10.285871028900146s\n",
      "bempp:HOST:TIMING: Start operation: Singular Corrections Evaluator\n",
      "bempp:HOST:TIMING: Finished Operation: Singular Corrections Evaluator: 0.0048673152923583984s\n",
      "bempp:HOST:TIMING: Finished Operation: Evaluating ifgf.: 10.293319702148438s\n",
      "bempp:HOST:TIMING: Start operation: Evaluating ifgf.\n",
      "bempp:HOST:TIMING: Start operation: Calling IFGF.\n"
     ]
    },
    {
     "name": "stdout",
     "output_type": "stream",
     "text": [
      "boxes=120\n",
      "base size 2  6 12\n",
      "now go\n",
      "doing recursive at level2\n",
      "now proceeding iteratively1\n",
      "level=1\n",
      "step 1\n",
      "step 2\n",
      "step 3\n",
      "level=0\n",
      "step 1\n",
      "step 2\n",
      "done\n",
      "starting singular correction\n",
      "done with singular corrections\n"
     ]
    },
    {
     "name": "stderr",
     "output_type": "stream",
     "text": [
      "bempp:HOST:TIMING: Finished Operation: Calling IFGF.: 6.646270513534546s\n",
      "bempp:HOST:TIMING: Start operation: Singular Corrections Evaluator\n",
      "bempp:HOST:TIMING: Finished Operation: Singular Corrections Evaluator: 0.004914045333862305s\n",
      "bempp:HOST:TIMING: Finished Operation: Evaluating ifgf.: 6.653757333755493s\n",
      "bempp:HOST:INFO: GMRES Iteration 23 with residual 2.6333274465742153e-05\n",
      "bempp:HOST:TIMING: Start operation: Evaluating ifgf.\n",
      "bempp:HOST:TIMING: Start operation: Calling IFGF.\n",
      "bempp:HOST:TIMING: Finished Operation: Calling IFGF.: 10.382659196853638s\n"
     ]
    },
    {
     "name": "stdout",
     "output_type": "stream",
     "text": [
      "mult5\n",
      "permutation\n",
      "boxes=120\n",
      "base size 3  9 18\n",
      "now go\n",
      "doing recursive at level2\n",
      "now proceeding iteratively1\n",
      "level=1\n",
      "step 1\n",
      "step 2\n",
      "step 3\n",
      "level=0\n",
      "step 1\n",
      "step 2\n",
      "done\n",
      "starting singular correction\n",
      "done with singular corrections\n",
      "mult7\n",
      "permutation\n",
      "boxes=120\n",
      "base size 2  6 12\n",
      "now go\n",
      "doing recursive at level2\n",
      "now proceeding iteratively1\n",
      "level=1\n",
      "step 1\n",
      "step 2\n",
      "step 3\n",
      "level=0\n",
      "step 1\n",
      "step 2\n",
      "done\n"
     ]
    },
    {
     "name": "stderr",
     "output_type": "stream",
     "text": [
      "bempp:HOST:TIMING: Start operation: Singular Corrections Evaluator\n",
      "bempp:HOST:TIMING: Finished Operation: Singular Corrections Evaluator: 0.004841327667236328s\n",
      "bempp:HOST:TIMING: Finished Operation: Evaluating ifgf.: 10.390154600143433s\n",
      "bempp:HOST:TIMING: Start operation: Evaluating ifgf.\n",
      "bempp:HOST:TIMING: Start operation: Calling IFGF.\n"
     ]
    },
    {
     "name": "stdout",
     "output_type": "stream",
     "text": [
      "starting singular correction\n",
      "done with singular corrections\n"
     ]
    },
    {
     "name": "stderr",
     "output_type": "stream",
     "text": [
      "bempp:HOST:TIMING: Finished Operation: Calling IFGF.: 10.306687116622925s\n",
      "bempp:HOST:TIMING: Start operation: Singular Corrections Evaluator\n",
      "bempp:HOST:TIMING: Finished Operation: Singular Corrections Evaluator: 0.0050618648529052734s\n",
      "bempp:HOST:TIMING: Finished Operation: Evaluating ifgf.: 10.314188957214355s\n",
      "bempp:HOST:TIMING: Start operation: Evaluating ifgf.\n",
      "bempp:HOST:TIMING: Start operation: Calling IFGF.\n"
     ]
    },
    {
     "name": "stdout",
     "output_type": "stream",
     "text": [
      "mult7\n",
      "permutation\n",
      "boxes=120\n",
      "base size 2  6 12\n",
      "now go\n",
      "doing recursive at level2\n",
      "now proceeding iteratively1\n",
      "level=1\n",
      "step 1\n",
      "step 2\n",
      "step 3\n",
      "level=0\n",
      "step 1\n",
      "step 2\n",
      "done\n",
      "starting singular correction\n",
      "done with singular corrections\n",
      "mult7\n",
      "permutation\n"
     ]
    },
    {
     "name": "stderr",
     "output_type": "stream",
     "text": [
      "bempp:HOST:TIMING: Finished Operation: Calling IFGF.: 10.610694169998169s\n",
      "bempp:HOST:TIMING: Start operation: Singular Corrections Evaluator\n",
      "bempp:HOST:TIMING: Finished Operation: Singular Corrections Evaluator: 0.0058743953704833984s\n",
      "bempp:HOST:TIMING: Finished Operation: Evaluating ifgf.: 10.61852478981018s\n",
      "bempp:HOST:TIMING: Start operation: Evaluating ifgf.\n",
      "bempp:HOST:TIMING: Start operation: Calling IFGF.\n"
     ]
    },
    {
     "name": "stdout",
     "output_type": "stream",
     "text": [
      "boxes=120\n",
      "base size 2  6 12\n",
      "now go\n",
      "doing recursive at level2\n",
      "now proceeding iteratively1\n",
      "level=1\n",
      "step 1\n",
      "step 2\n",
      "step 3\n",
      "level=0\n",
      "step 1\n",
      "step 2\n",
      "done\n",
      "starting singular correction\n",
      "done with singular corrections\n"
     ]
    },
    {
     "name": "stderr",
     "output_type": "stream",
     "text": [
      "bempp:HOST:TIMING: Finished Operation: Calling IFGF.: 6.49588942527771s\n",
      "bempp:HOST:TIMING: Start operation: Singular Corrections Evaluator\n",
      "bempp:HOST:TIMING: Finished Operation: Singular Corrections Evaluator: 0.004978656768798828s\n",
      "bempp:HOST:TIMING: Finished Operation: Evaluating ifgf.: 6.502830505371094s\n",
      "bempp:HOST:INFO: GMRES Iteration 24 with residual 1.9366351327423446e-05\n",
      "bempp:HOST:TIMING: Start operation: Evaluating ifgf.\n",
      "bempp:HOST:TIMING: Start operation: Calling IFGF.\n"
     ]
    },
    {
     "name": "stdout",
     "output_type": "stream",
     "text": [
      "mult5\n",
      "permutation\n",
      "boxes=120\n",
      "base size 3  9 18\n",
      "now go\n",
      "doing recursive at level2\n",
      "now proceeding iteratively1\n",
      "level=1\n",
      "step 1\n",
      "step 2\n",
      "step 3\n",
      "level=0\n",
      "step 1\n",
      "step 2\n",
      "done\n",
      "starting singular correction\n",
      "done with singular corrections\n"
     ]
    },
    {
     "name": "stderr",
     "output_type": "stream",
     "text": [
      "bempp:HOST:TIMING: Finished Operation: Calling IFGF.: 10.9254150390625s\n",
      "bempp:HOST:TIMING: Start operation: Singular Corrections Evaluator\n",
      "bempp:HOST:TIMING: Finished Operation: Singular Corrections Evaluator: 0.005404472351074219s\n",
      "bempp:HOST:TIMING: Finished Operation: Evaluating ifgf.: 10.933388948440552s\n",
      "bempp:HOST:TIMING: Start operation: Evaluating ifgf.\n",
      "bempp:HOST:TIMING: Start operation: Calling IFGF.\n",
      "bempp:HOST:TIMING: Finished Operation: Calling IFGF.: 10.369135618209839s\n"
     ]
    },
    {
     "name": "stdout",
     "output_type": "stream",
     "text": [
      "mult7\n",
      "permutation\n",
      "boxes=120\n",
      "base size 2  6 12\n",
      "now go\n",
      "doing recursive at level2\n",
      "now proceeding iteratively1\n",
      "level=1\n",
      "step 1\n",
      "step 2\n",
      "step 3\n",
      "level=0\n",
      "step 1\n",
      "step 2\n",
      "done\n",
      "starting singular correction\n",
      "done with singular corrections\n",
      "mult7\n",
      "permutation\n",
      "boxes=120\n",
      "base size 2  6 12\n",
      "now go\n",
      "doing recursive at level2\n",
      "now proceeding iteratively1\n",
      "level=1\n",
      "step 1\n",
      "step 2\n",
      "step 3\n",
      "level=0\n",
      "step 1\n",
      "step 2\n",
      "done\n"
     ]
    },
    {
     "name": "stderr",
     "output_type": "stream",
     "text": [
      "bempp:HOST:TIMING: Start operation: Singular Corrections Evaluator\n",
      "bempp:HOST:TIMING: Finished Operation: Singular Corrections Evaluator: 0.004911661148071289s\n",
      "bempp:HOST:TIMING: Finished Operation: Evaluating ifgf.: 10.37680435180664s\n",
      "bempp:HOST:TIMING: Start operation: Evaluating ifgf.\n",
      "bempp:HOST:TIMING: Start operation: Calling IFGF.\n"
     ]
    },
    {
     "name": "stdout",
     "output_type": "stream",
     "text": [
      "starting singular correction\n",
      "done with singular corrections\n"
     ]
    },
    {
     "name": "stderr",
     "output_type": "stream",
     "text": [
      "bempp:HOST:TIMING: Finished Operation: Calling IFGF.: 10.288267135620117s\n",
      "bempp:HOST:TIMING: Start operation: Singular Corrections Evaluator\n",
      "bempp:HOST:TIMING: Finished Operation: Singular Corrections Evaluator: 0.004834890365600586s\n",
      "bempp:HOST:TIMING: Finished Operation: Evaluating ifgf.: 10.295416593551636s\n",
      "bempp:HOST:TIMING: Start operation: Evaluating ifgf.\n",
      "bempp:HOST:TIMING: Start operation: Calling IFGF.\n"
     ]
    },
    {
     "name": "stdout",
     "output_type": "stream",
     "text": [
      "mult7\n",
      "permutation\n",
      "boxes=120\n",
      "base size 2  6 12\n",
      "now go\n",
      "doing recursive at level2\n",
      "now proceeding iteratively1\n",
      "level=1\n",
      "step 1\n",
      "step 2\n",
      "step 3\n",
      "level=0\n",
      "step 1\n",
      "step 2\n",
      "done\n",
      "starting singular correction\n",
      "done with singular corrections\n"
     ]
    },
    {
     "name": "stderr",
     "output_type": "stream",
     "text": [
      "bempp:HOST:TIMING: Finished Operation: Calling IFGF.: 7.047793626785278s\n",
      "bempp:HOST:TIMING: Start operation: Singular Corrections Evaluator\n",
      "bempp:HOST:TIMING: Finished Operation: Singular Corrections Evaluator: 0.00509333610534668s\n",
      "bempp:HOST:TIMING: Finished Operation: Evaluating ifgf.: 7.055151462554932s\n",
      "bempp:HOST:INFO: GMRES Iteration 25 with residual 1.3817521911415942e-05\n",
      "bempp:HOST:TIMING: Start operation: Evaluating ifgf.\n",
      "bempp:HOST:TIMING: Start operation: Calling IFGF.\n"
     ]
    },
    {
     "name": "stdout",
     "output_type": "stream",
     "text": [
      "mult5\n",
      "permutation\n",
      "boxes=120\n",
      "base size 3  9 18\n",
      "now go\n",
      "doing recursive at level2\n",
      "now proceeding iteratively1\n",
      "level=1\n",
      "step 1\n",
      "step 2\n",
      "step 3\n",
      "level=0\n",
      "step 1\n",
      "step 2\n",
      "done\n",
      "starting singular correction\n",
      "done with singular corrections\n",
      "mult7\n",
      "permutation\n"
     ]
    },
    {
     "name": "stderr",
     "output_type": "stream",
     "text": [
      "bempp:HOST:TIMING: Finished Operation: Calling IFGF.: 11.722886562347412s\n",
      "bempp:HOST:TIMING: Start operation: Singular Corrections Evaluator\n",
      "bempp:HOST:TIMING: Finished Operation: Singular Corrections Evaluator: 0.005129814147949219s\n",
      "bempp:HOST:TIMING: Finished Operation: Evaluating ifgf.: 11.730292558670044s\n",
      "bempp:HOST:TIMING: Start operation: Evaluating ifgf.\n",
      "bempp:HOST:TIMING: Start operation: Calling IFGF.\n"
     ]
    },
    {
     "name": "stdout",
     "output_type": "stream",
     "text": [
      "boxes=120\n",
      "base size 2  6 12\n",
      "now go\n",
      "doing recursive at level2\n",
      "now proceeding iteratively1\n",
      "level=1\n",
      "step 1\n",
      "step 2\n",
      "step 3\n",
      "level=0\n",
      "step 1\n",
      "step 2\n",
      "done\n",
      "starting singular correction\n",
      "done with singular corrections\n"
     ]
    },
    {
     "name": "stderr",
     "output_type": "stream",
     "text": [
      "bempp:HOST:TIMING: Finished Operation: Calling IFGF.: 10.425723552703857s\n",
      "bempp:HOST:TIMING: Start operation: Singular Corrections Evaluator\n",
      "bempp:HOST:TIMING: Finished Operation: Singular Corrections Evaluator: 0.0049896240234375s\n",
      "bempp:HOST:TIMING: Finished Operation: Evaluating ifgf.: 10.433181762695312s\n",
      "bempp:HOST:TIMING: Start operation: Evaluating ifgf.\n",
      "bempp:HOST:TIMING: Start operation: Calling IFGF.\n"
     ]
    },
    {
     "name": "stdout",
     "output_type": "stream",
     "text": [
      "mult7\n",
      "permutation\n",
      "starting singular correction\n",
      "boxes=120\n",
      "base size 2  6 12\n",
      "now go\n",
      "doing recursive at level2\n",
      "now proceeding iteratively1\n",
      "level=1\n",
      "step 1\n",
      "step 2\n",
      "step 3\n",
      "level=0\n",
      "step 1\n",
      "step 2\n",
      "done\n",
      "done with singular corrections\n"
     ]
    },
    {
     "name": "stderr",
     "output_type": "stream",
     "text": [
      "bempp:HOST:TIMING: Finished Operation: Calling IFGF.: 10.657814264297485s\n",
      "bempp:HOST:TIMING: Start operation: Singular Corrections Evaluator\n",
      "bempp:HOST:TIMING: Finished Operation: Singular Corrections Evaluator: 0.005089521408081055s\n",
      "bempp:HOST:TIMING: Finished Operation: Evaluating ifgf.: 10.665071487426758s\n",
      "bempp:HOST:TIMING: Start operation: Evaluating ifgf.\n",
      "bempp:HOST:TIMING: Start operation: Calling IFGF.\n"
     ]
    },
    {
     "name": "stdout",
     "output_type": "stream",
     "text": [
      "mult7\n",
      "permutation\n",
      "boxes=120\n",
      "base size 2  6 12\n",
      "now go\n",
      "doing recursive at level2\n",
      "now proceeding iteratively1\n",
      "level=1\n",
      "step 1\n",
      "step 2\n",
      "step 3\n",
      "level=0\n",
      "step 1\n",
      "step 2\n",
      "done\n",
      "starting singular correction\n",
      "done with singular corrections\n",
      "mult5\n",
      "permutation\n",
      "boxes=120\n",
      "base size 3  9 18\n",
      "now go\n",
      "doing recursive at level2\n",
      "now proceeding iteratively1\n",
      "level=1\n",
      "step 1\n",
      "step 2\n",
      "step 3\n",
      "level=0\n",
      "step 1\n",
      "step 2\n",
      "done\n"
     ]
    },
    {
     "name": "stderr",
     "output_type": "stream",
     "text": [
      "bempp:HOST:TIMING: Finished Operation: Calling IFGF.: 6.671464920043945s\n",
      "bempp:HOST:TIMING: Start operation: Singular Corrections Evaluator\n",
      "bempp:HOST:TIMING: Finished Operation: Singular Corrections Evaluator: 0.004966259002685547s\n",
      "bempp:HOST:TIMING: Finished Operation: Evaluating ifgf.: 6.678489923477173s\n",
      "bempp:HOST:INFO: GMRES Iteration 26 with residual 9.741942022892274e-06\n",
      "bempp:HOST:INFO: GMRES finished in 26 iterations and took 3.98E+03 sec.\n"
     ]
    },
    {
     "name": "stdout",
     "output_type": "stream",
     "text": [
      "starting singular correction\n",
      "done with singular corrections\n"
     ]
    }
   ],
   "source": [
    "from bempp.api.linalg import gmres\n",
    "neumann_fun, info,it,res = gmres(lhs, grid_fun, tol=1E-5, return_iteration_count=True,return_residuals=True) "
   ]
  },
  {
   "cell_type": "markdown",
   "metadata": {},
   "source": [
    "`gmres` returns a grid function `neumann_fun` and an integer `info`. When everything works fine info is equal to 0.\n",
    "\n",
    "At this stage, we have the surface solution of the integral equation. Now we will evaluate the solution in the domain of interest. We define the evaluation points as follows."
   ]
  },
  {
   "cell_type": "code",
   "execution_count": 10,
   "metadata": {},
   "outputs": [],
   "source": [
    "Nx = 200\n",
    "Ny = 200\n",
    "xmin, xmax, ymin, ymax = [-3, 3, -3, 3]\n",
    "plot_grid = np.mgrid[xmin:xmax:Nx * 1j, ymin:ymax:Ny * 1j]\n",
    "points = np.vstack((plot_grid[0].ravel(),\n",
    "                    plot_grid[1].ravel(),\n",
    "                    np.zeros(plot_grid[0].size)))\n",
    "u_evaluated = np.zeros(points.shape[1], dtype=np.complex128)\n",
    "u_evaluated[:] = np.nan"
   ]
  },
  {
   "cell_type": "markdown",
   "metadata": {},
   "source": [
    "This will generate a grid of points in the $x$-$y$ plane.\n",
    "\n",
    "Then we create a single layer potential operator and use it to evaluate the solution at the evaluation points. The variable ``idx`` allows to compute the solution only at points located outside the unit circle of the plane. We use a single layer potential operator to evaluate the solution at the observation points."
   ]
  },
  {
   "cell_type": "code",
   "execution_count": 11,
   "metadata": {},
   "outputs": [],
   "source": [
    "x, y, z = points\n",
    "idx = np.sqrt(x**2 + y**2) > 1.0\n",
    "\n",
    "from bempp.api.operators.potential import helmholtz as helmholtz_potential\n",
    "slp_pot = helmholtz_potential.single_layer(\n",
    "    piecewise_const_space, points[:, idx], k)\n",
    "res = np.real(np.exp(1j *k * points[0, idx]) - slp_pot.evaluate(neumann_fun))\n",
    "u_evaluated[idx] = res.flat"
   ]
  },
  {
   "cell_type": "markdown",
   "metadata": {},
   "source": [
    "We now plot the slice of the domain solution."
   ]
  },
  {
   "cell_type": "code",
   "execution_count": 12,
   "metadata": {},
   "outputs": [
    {
     "data": {
      "text/plain": [
       "Text(0.5, 1.0, 'Scattering from the unit sphere, solution in plane z=0')"
      ]
     },
     "execution_count": 12,
     "metadata": {},
     "output_type": "execute_result"
    },
    {
     "data": {
      "image/png": "[encoded data removed]",
      "text/plain": [
       "<Figure size 1000x800 with 2 Axes>"
      ]
     },
     "metadata": {},
     "output_type": "display_data"
    }
   ],
   "source": [
    "%matplotlib inline\n",
    "\n",
    "u_evaluated = u_evaluated.reshape((Nx, Ny))\n",
    "\n",
    "from matplotlib import pyplot as plt\n",
    "fig = plt.figure(figsize=(10, 8))\n",
    "plt.imshow(np.real(u_evaluated.T), extent=[-3, 3, -3, 3])\n",
    "plt.xlabel('x')\n",
    "plt.ylabel('y')\n",
    "plt.colorbar()\n",
    "plt.title(\"Scattering from the unit sphere, solution in plane z=0\")"
   ]
  },
  {
   "cell_type": "code",
   "execution_count": null,
   "metadata": {},
   "outputs": [],
   "source": []
  }
 ],
 "metadata": {
  "kernelspec": {
   "display_name": "Python 3 (ipykernel)",
   "language": "python",
   "name": "python3"
  },
  "language_info": {
   "codemirror_mode": {
    "name": "ipython",
    "version": 3
   },
   "file_extension": ".py",
   "mimetype": "text/x-python",
   "name": "python",
   "nbconvert_exporter": "python",
   "pygments_lexer": "ipython3",
   "version": "3.10.13"
  }
 },
 "nbformat": 4,
 "nbformat_minor": 4
}
